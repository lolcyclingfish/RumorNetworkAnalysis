{
 "cells": [
  {
   "cell_type": "markdown",
   "metadata": {},
   "source": [
    "### 2. Adding local centralities\n",
    "\n",
    "This notebook serves to add local centralities in both real and fake news networks to both source and destination websites, so we will know their position within both the real and fake networks.\n",
    "\n",
    "The centralities are calculated using the R code."
   ]
  },
  {
   "cell_type": "code",
   "execution_count": 1,
   "metadata": {
    "collapsed": false
   },
   "outputs": [
    {
     "name": "stdout",
     "output_type": "stream",
     "text": [
      "Populating the interactive namespace from numpy and matplotlib\n"
     ]
    }
   ],
   "source": [
    "%pylab inline\n",
    "import pandas as pd"
   ]
  },
  {
   "cell_type": "code",
   "execution_count": 5,
   "metadata": {
    "collapsed": false
   },
   "outputs": [
    {
     "name": "stdout",
     "output_type": "stream",
     "text": [
      "\u001b[31memergent.csv\u001b[m\u001b[m*               politifact_clean.csv\r\n",
      "keys.csv                    real_localcentralities.csv\r\n",
      "pol_agg.csv                 \u001b[31msnopes.csv\u001b[m\u001b[m*\r\n",
      "\u001b[31mpolitifact.csv\u001b[m\u001b[m*\r\n"
     ]
    }
   ],
   "source": [
    "ls data"
   ]
  },
  {
   "cell_type": "code",
   "execution_count": 25,
   "metadata": {
    "collapsed": false
   },
   "outputs": [],
   "source": [
    "d=pd.read_csv('data/keys.csv')\n",
    "d.columns=['Unnamed: 0', 'Source', 'Destination', 'page_url', 'TRUE.', 'FALSE.']"
   ]
  },
  {
   "cell_type": "code",
   "execution_count": 26,
   "metadata": {
    "collapsed": false
   },
   "outputs": [],
   "source": [
    "def add_centralities(file,identity):\n",
    "    cen=pd.read_csv(file)\n",
    "    cen.columns=['Website','LocalDegreeCentralities','LocalBetweenness','LocalCloseness','LocalEigenCentralities']\n",
    "    cen.columns=[identity+'_'+i for i in cen.columns]\n",
    "    \n",
    "    for col in cen.columns[1:]:\n",
    "        for website in ['Source','Destination']:\n",
    "            mapper=dict(zip(d[website],cen[col]))\n",
    "            d['Source'+'_'+str(col)]=d['Source'].map(mapper)\n",
    "            d['Destination'+'_'+str(col)]=d['Source'].map(mapper)"
   ]
  },
  {
   "cell_type": "code",
   "execution_count": 27,
   "metadata": {
    "collapsed": false
   },
   "outputs": [],
   "source": [
    "add_centralities('data/real_localcentralities.csv','Real')\n",
    "add_centralities('data/fake_localcentralities.csv','Fake')"
   ]
  },
  {
   "cell_type": "code",
   "execution_count": 29,
   "metadata": {
    "collapsed": false
   },
   "outputs": [
    {
     "data": {
      "text/html": [
       "<div>\n",
       "<table border=\"1\" class=\"dataframe\">\n",
       "  <thead>\n",
       "    <tr style=\"text-align: right;\">\n",
       "      <th></th>\n",
       "      <th>Unnamed: 0</th>\n",
       "      <th>Source</th>\n",
       "      <th>Destination</th>\n",
       "      <th>page_url</th>\n",
       "      <th>TRUE.</th>\n",
       "      <th>FALSE.</th>\n",
       "      <th>Source_Real_LocalDegreeCentralities</th>\n",
       "      <th>Destination_Real_LocalDegreeCentralities</th>\n",
       "      <th>Source_Real_LocalBetweenness</th>\n",
       "      <th>Destination_Real_LocalBetweenness</th>\n",
       "      <th>...</th>\n",
       "      <th>Source_Real_LocalEigenCentralities</th>\n",
       "      <th>Destination_Real_LocalEigenCentralities</th>\n",
       "      <th>Source_Fake_LocalDegreeCentralities</th>\n",
       "      <th>Destination_Fake_LocalDegreeCentralities</th>\n",
       "      <th>Source_Fake_LocalBetweenness</th>\n",
       "      <th>Destination_Fake_LocalBetweenness</th>\n",
       "      <th>Source_Fake_LocalCloseness</th>\n",
       "      <th>Destination_Fake_LocalCloseness</th>\n",
       "      <th>Source_Fake_LocalEigenCentralities</th>\n",
       "      <th>Destination_Fake_LocalEigenCentralities</th>\n",
       "    </tr>\n",
       "  </thead>\n",
       "  <tbody>\n",
       "    <tr>\n",
       "      <th>2895</th>\n",
       "      <td>2896</td>\n",
       "      <td>www.westernjournalism.com</td>\n",
       "      <td>fas.org</td>\n",
       "      <td>0</td>\n",
       "      <td>0</td>\n",
       "      <td>0</td>\n",
       "      <td>NaN</td>\n",
       "      <td>NaN</td>\n",
       "      <td>NaN</td>\n",
       "      <td>NaN</td>\n",
       "      <td>...</td>\n",
       "      <td>NaN</td>\n",
       "      <td>NaN</td>\n",
       "      <td>1.0</td>\n",
       "      <td>1.0</td>\n",
       "      <td>0.0</td>\n",
       "      <td>0.0</td>\n",
       "      <td>0.028429</td>\n",
       "      <td>0.028429</td>\n",
       "      <td>1.0</td>\n",
       "      <td>1.0</td>\n",
       "    </tr>\n",
       "    <tr>\n",
       "      <th>2896</th>\n",
       "      <td>2897</td>\n",
       "      <td>www.pbs.org</td>\n",
       "      <td>freepatriot.org</td>\n",
       "      <td>0</td>\n",
       "      <td>0</td>\n",
       "      <td>0</td>\n",
       "      <td>NaN</td>\n",
       "      <td>NaN</td>\n",
       "      <td>NaN</td>\n",
       "      <td>NaN</td>\n",
       "      <td>...</td>\n",
       "      <td>NaN</td>\n",
       "      <td>NaN</td>\n",
       "      <td>1.0</td>\n",
       "      <td>1.0</td>\n",
       "      <td>0.0</td>\n",
       "      <td>0.0</td>\n",
       "      <td>0.029065</td>\n",
       "      <td>0.029065</td>\n",
       "      <td>1.0</td>\n",
       "      <td>1.0</td>\n",
       "    </tr>\n",
       "    <tr>\n",
       "      <th>2897</th>\n",
       "      <td>2898</td>\n",
       "      <td>blogs.browardpalmbeach.com</td>\n",
       "      <td>cbo.gov</td>\n",
       "      <td>0</td>\n",
       "      <td>0</td>\n",
       "      <td>0</td>\n",
       "      <td>NaN</td>\n",
       "      <td>NaN</td>\n",
       "      <td>NaN</td>\n",
       "      <td>NaN</td>\n",
       "      <td>...</td>\n",
       "      <td>NaN</td>\n",
       "      <td>NaN</td>\n",
       "      <td>NaN</td>\n",
       "      <td>NaN</td>\n",
       "      <td>NaN</td>\n",
       "      <td>NaN</td>\n",
       "      <td>NaN</td>\n",
       "      <td>NaN</td>\n",
       "      <td>NaN</td>\n",
       "      <td>NaN</td>\n",
       "    </tr>\n",
       "    <tr>\n",
       "      <th>2898</th>\n",
       "      <td>2899</td>\n",
       "      <td>abcnews.com.co</td>\n",
       "      <td>conservativebyte.com</td>\n",
       "      <td>0</td>\n",
       "      <td>0</td>\n",
       "      <td>0</td>\n",
       "      <td>NaN</td>\n",
       "      <td>NaN</td>\n",
       "      <td>NaN</td>\n",
       "      <td>NaN</td>\n",
       "      <td>...</td>\n",
       "      <td>NaN</td>\n",
       "      <td>NaN</td>\n",
       "      <td>NaN</td>\n",
       "      <td>NaN</td>\n",
       "      <td>NaN</td>\n",
       "      <td>NaN</td>\n",
       "      <td>NaN</td>\n",
       "      <td>NaN</td>\n",
       "      <td>NaN</td>\n",
       "      <td>NaN</td>\n",
       "    </tr>\n",
       "    <tr>\n",
       "      <th>2899</th>\n",
       "      <td>2900</td>\n",
       "      <td>newsdaily12.com</td>\n",
       "      <td>dailyleak.org</td>\n",
       "      <td>0</td>\n",
       "      <td>0</td>\n",
       "      <td>0</td>\n",
       "      <td>4.666667</td>\n",
       "      <td>4.666667</td>\n",
       "      <td>0.0</td>\n",
       "      <td>0.0</td>\n",
       "      <td>...</td>\n",
       "      <td>4.666667</td>\n",
       "      <td>4.666667</td>\n",
       "      <td>6.0</td>\n",
       "      <td>6.0</td>\n",
       "      <td>0.0</td>\n",
       "      <td>0.0</td>\n",
       "      <td>0.029012</td>\n",
       "      <td>0.029012</td>\n",
       "      <td>6.0</td>\n",
       "      <td>6.0</td>\n",
       "    </tr>\n",
       "  </tbody>\n",
       "</table>\n",
       "<p>5 rows × 22 columns</p>\n",
       "</div>"
      ],
      "text/plain": [
       "      Unnamed: 0                      Source           Destination  page_url  \\\n",
       "2895        2896   www.westernjournalism.com               fas.org         0   \n",
       "2896        2897                 www.pbs.org       freepatriot.org         0   \n",
       "2897        2898  blogs.browardpalmbeach.com               cbo.gov         0   \n",
       "2898        2899              abcnews.com.co  conservativebyte.com         0   \n",
       "2899        2900             newsdaily12.com         dailyleak.org         0   \n",
       "\n",
       "      TRUE.  FALSE.  Source_Real_LocalDegreeCentralities  \\\n",
       "2895      0       0                                  NaN   \n",
       "2896      0       0                                  NaN   \n",
       "2897      0       0                                  NaN   \n",
       "2898      0       0                                  NaN   \n",
       "2899      0       0                             4.666667   \n",
       "\n",
       "      Destination_Real_LocalDegreeCentralities  Source_Real_LocalBetweenness  \\\n",
       "2895                                       NaN                           NaN   \n",
       "2896                                       NaN                           NaN   \n",
       "2897                                       NaN                           NaN   \n",
       "2898                                       NaN                           NaN   \n",
       "2899                                  4.666667                           0.0   \n",
       "\n",
       "      Destination_Real_LocalBetweenness  \\\n",
       "2895                                NaN   \n",
       "2896                                NaN   \n",
       "2897                                NaN   \n",
       "2898                                NaN   \n",
       "2899                                0.0   \n",
       "\n",
       "                       ...                     \\\n",
       "2895                   ...                      \n",
       "2896                   ...                      \n",
       "2897                   ...                      \n",
       "2898                   ...                      \n",
       "2899                   ...                      \n",
       "\n",
       "      Source_Real_LocalEigenCentralities  \\\n",
       "2895                                 NaN   \n",
       "2896                                 NaN   \n",
       "2897                                 NaN   \n",
       "2898                                 NaN   \n",
       "2899                            4.666667   \n",
       "\n",
       "      Destination_Real_LocalEigenCentralities  \\\n",
       "2895                                      NaN   \n",
       "2896                                      NaN   \n",
       "2897                                      NaN   \n",
       "2898                                      NaN   \n",
       "2899                                 4.666667   \n",
       "\n",
       "      Source_Fake_LocalDegreeCentralities  \\\n",
       "2895                                  1.0   \n",
       "2896                                  1.0   \n",
       "2897                                  NaN   \n",
       "2898                                  NaN   \n",
       "2899                                  6.0   \n",
       "\n",
       "      Destination_Fake_LocalDegreeCentralities  Source_Fake_LocalBetweenness  \\\n",
       "2895                                       1.0                           0.0   \n",
       "2896                                       1.0                           0.0   \n",
       "2897                                       NaN                           NaN   \n",
       "2898                                       NaN                           NaN   \n",
       "2899                                       6.0                           0.0   \n",
       "\n",
       "      Destination_Fake_LocalBetweenness  Source_Fake_LocalCloseness  \\\n",
       "2895                                0.0                    0.028429   \n",
       "2896                                0.0                    0.029065   \n",
       "2897                                NaN                         NaN   \n",
       "2898                                NaN                         NaN   \n",
       "2899                                0.0                    0.029012   \n",
       "\n",
       "      Destination_Fake_LocalCloseness  Source_Fake_LocalEigenCentralities  \\\n",
       "2895                         0.028429                                 1.0   \n",
       "2896                         0.029065                                 1.0   \n",
       "2897                              NaN                                 NaN   \n",
       "2898                              NaN                                 NaN   \n",
       "2899                         0.029012                                 6.0   \n",
       "\n",
       "      Destination_Fake_LocalEigenCentralities  \n",
       "2895                                      1.0  \n",
       "2896                                      1.0  \n",
       "2897                                      NaN  \n",
       "2898                                      NaN  \n",
       "2899                                      6.0  \n",
       "\n",
       "[5 rows x 22 columns]"
      ]
     },
     "execution_count": 29,
     "metadata": {},
     "output_type": "execute_result"
    }
   ],
   "source": [
    "d.tail()"
   ]
  },
  {
   "cell_type": "code",
   "execution_count": 30,
   "metadata": {
    "collapsed": false
   },
   "outputs": [],
   "source": [
    "d.to_csv('data/keys.csv')"
   ]
  }
 ],
 "metadata": {
  "anaconda-cloud": {},
  "kernelspec": {
   "display_name": "Python [default]",
   "language": "python",
   "name": "python3"
  },
  "language_info": {
   "codemirror_mode": {
    "name": "ipython",
    "version": 3
   },
   "file_extension": ".py",
   "mimetype": "text/x-python",
   "name": "python",
   "nbconvert_exporter": "python",
   "pygments_lexer": "ipython3",
   "version": "3.5.2"
  }
 },
 "nbformat": 4,
 "nbformat_minor": 1
}
