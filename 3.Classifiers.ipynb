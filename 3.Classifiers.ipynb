{
 "cells": [
  {
   "cell_type": "markdown",
   "metadata": {},
   "source": [
    "### 3. Classifiers\n",
    "\n",
    "This notebook to classify the probability of fake news traveling from A to B."
   ]
  },
  {
   "cell_type": "code",
   "execution_count": 4,
   "metadata": {
    "collapsed": false
   },
   "outputs": [
    {
     "name": "stdout",
     "output_type": "stream",
     "text": [
      "ClassificationModelInput.csv  pol_agg_new.csv\r\n",
      "\u001b[31memergent.csv\u001b[m\u001b[m*                 \u001b[31mpolitifact.csv\u001b[m\u001b[m*\r\n",
      "fake_localcentralities.csv    politifact_clean.csv\r\n",
      "key_mutuality_roshan.csv      real_localcentralities.csv\r\n",
      "keys.csv                      \u001b[31msnopes.csv\u001b[m\u001b[m*\r\n"
     ]
    }
   ],
   "source": [
    "ls data"
   ]
  },
  {
   "cell_type": "code",
   "execution_count": 5,
   "metadata": {
    "collapsed": false
   },
   "outputs": [
    {
     "name": "stdout",
     "output_type": "stream",
     "text": [
      "Populating the interactive namespace from numpy and matplotlib\n"
     ]
    }
   ],
   "source": [
    "%pylab inline\n",
    "import pandas as pd, pyprind\n",
    "\n",
    "from sklearn.ensemble import GradientBoostingClassifier, RandomForestClassifier\n",
    "from sklearn.model_selection import GridSearchCV\n",
    "from sklearn.metrics import roc_auc_score,make_scorer"
   ]
  },
  {
   "cell_type": "code",
   "execution_count": 6,
   "metadata": {
    "collapsed": false
   },
   "outputs": [
    {
     "name": "stdout",
     "output_type": "stream",
     "text": [
      "Index(['Source', 'Destination', 'Monday', 'Elections', 'Military', 'Thursday',\n",
      "       'Religion', 'Friday', 'Saturday', 'TRUE', 'History', 'Tuesday',\n",
      "       'Wednesday', 'Sunday', 'page_url', 'Health Care', 'FALSE',\n",
      "       'jaccard_coeff_connection', 'Neighbor_connection',\n",
      "       'jaccard_coeff_common_destination', 'Neighbor_common_destination',\n",
      "       'jaccard_coeff_common_source', 'Neighbor_common_source',\n",
      "       'SourceSite_outdeg_real', 'DestSite_outdeg_real',\n",
      "       'SourceSite_outdeg_fake', 'DestSite_outdeg_fake',\n",
      "       'SourceSite_indeg_fake', 'DestSite_indeg_fake', 'DestSite_indeg_real',\n",
      "       'SourceSite_indeg_real', 'mutuality_ind', 'MedianPolarityScore',\n",
      "       'Label'],\n",
      "      dtype='object')\n"
     ]
    }
   ],
   "source": [
    "d=pd.read_csv('data/ClassificationModelInput.csv')\n",
    "sum(sum(d.isnull())) #No NA\n",
    "print(d.columns)"
   ]
  },
  {
   "cell_type": "code",
   "execution_count": 7,
   "metadata": {
    "collapsed": false
   },
   "outputs": [
    {
     "data": {
      "text/html": [
       "<div>\n",
       "<table border=\"1\" class=\"dataframe\">\n",
       "  <thead>\n",
       "    <tr style=\"text-align: right;\">\n",
       "      <th></th>\n",
       "      <th>Source</th>\n",
       "      <th>Destination</th>\n",
       "      <th>Monday</th>\n",
       "      <th>Elections</th>\n",
       "      <th>Military</th>\n",
       "      <th>Thursday</th>\n",
       "      <th>Religion</th>\n",
       "      <th>Friday</th>\n",
       "      <th>Saturday</th>\n",
       "      <th>TRUE</th>\n",
       "      <th>...</th>\n",
       "      <th>DestSite_outdeg_real</th>\n",
       "      <th>SourceSite_outdeg_fake</th>\n",
       "      <th>DestSite_outdeg_fake</th>\n",
       "      <th>SourceSite_indeg_fake</th>\n",
       "      <th>DestSite_indeg_fake</th>\n",
       "      <th>DestSite_indeg_real</th>\n",
       "      <th>SourceSite_indeg_real</th>\n",
       "      <th>mutuality_ind</th>\n",
       "      <th>MedianPolarityScore</th>\n",
       "      <th>Label</th>\n",
       "    </tr>\n",
       "  </thead>\n",
       "  <tbody>\n",
       "    <tr>\n",
       "      <th>0</th>\n",
       "      <td>www.facebook.com</td>\n",
       "      <td>www.politifact.com</td>\n",
       "      <td>6</td>\n",
       "      <td>0</td>\n",
       "      <td>0</td>\n",
       "      <td>4</td>\n",
       "      <td>0</td>\n",
       "      <td>1</td>\n",
       "      <td>0</td>\n",
       "      <td>0</td>\n",
       "      <td>...</td>\n",
       "      <td>0.0</td>\n",
       "      <td>225</td>\n",
       "      <td>35.0</td>\n",
       "      <td>10.0</td>\n",
       "      <td>75</td>\n",
       "      <td>7</td>\n",
       "      <td>1.0</td>\n",
       "      <td>1.0</td>\n",
       "      <td>0.0000</td>\n",
       "      <td>0</td>\n",
       "    </tr>\n",
       "    <tr>\n",
       "      <th>1</th>\n",
       "      <td>nationalreport.net</td>\n",
       "      <td>www.whitehouse.gov</td>\n",
       "      <td>0</td>\n",
       "      <td>0</td>\n",
       "      <td>0</td>\n",
       "      <td>14</td>\n",
       "      <td>0</td>\n",
       "      <td>0</td>\n",
       "      <td>0</td>\n",
       "      <td>0</td>\n",
       "      <td>...</td>\n",
       "      <td>0.0</td>\n",
       "      <td>25</td>\n",
       "      <td>0.0</td>\n",
       "      <td>4.0</td>\n",
       "      <td>23</td>\n",
       "      <td>5</td>\n",
       "      <td>0.0</td>\n",
       "      <td>0.0</td>\n",
       "      <td>0.5106</td>\n",
       "      <td>0</td>\n",
       "    </tr>\n",
       "    <tr>\n",
       "      <th>2</th>\n",
       "      <td>www.naturalnews.com</td>\n",
       "      <td>www.cdc.gov</td>\n",
       "      <td>0</td>\n",
       "      <td>0</td>\n",
       "      <td>0</td>\n",
       "      <td>0</td>\n",
       "      <td>0</td>\n",
       "      <td>0</td>\n",
       "      <td>0</td>\n",
       "      <td>0</td>\n",
       "      <td>...</td>\n",
       "      <td>0.0</td>\n",
       "      <td>17</td>\n",
       "      <td>0.0</td>\n",
       "      <td>0.0</td>\n",
       "      <td>18</td>\n",
       "      <td>0</td>\n",
       "      <td>0.0</td>\n",
       "      <td>0.0</td>\n",
       "      <td>-0.8834</td>\n",
       "      <td>0</td>\n",
       "    </tr>\n",
       "    <tr>\n",
       "      <th>3</th>\n",
       "      <td>www.facebook.com</td>\n",
       "      <td>www.snopes.com</td>\n",
       "      <td>0</td>\n",
       "      <td>0</td>\n",
       "      <td>0</td>\n",
       "      <td>0</td>\n",
       "      <td>0</td>\n",
       "      <td>2</td>\n",
       "      <td>0</td>\n",
       "      <td>1</td>\n",
       "      <td>...</td>\n",
       "      <td>0.0</td>\n",
       "      <td>225</td>\n",
       "      <td>6.0</td>\n",
       "      <td>10.0</td>\n",
       "      <td>33</td>\n",
       "      <td>1</td>\n",
       "      <td>1.0</td>\n",
       "      <td>0.0</td>\n",
       "      <td>0.0000</td>\n",
       "      <td>0</td>\n",
       "    </tr>\n",
       "    <tr>\n",
       "      <th>4</th>\n",
       "      <td>www.infowars.com</td>\n",
       "      <td>www.cdc.gov</td>\n",
       "      <td>0</td>\n",
       "      <td>0</td>\n",
       "      <td>0</td>\n",
       "      <td>0</td>\n",
       "      <td>0</td>\n",
       "      <td>0</td>\n",
       "      <td>0</td>\n",
       "      <td>0</td>\n",
       "      <td>...</td>\n",
       "      <td>0.0</td>\n",
       "      <td>21</td>\n",
       "      <td>0.0</td>\n",
       "      <td>3.0</td>\n",
       "      <td>18</td>\n",
       "      <td>0</td>\n",
       "      <td>0.0</td>\n",
       "      <td>0.0</td>\n",
       "      <td>-0.6808</td>\n",
       "      <td>0</td>\n",
       "    </tr>\n",
       "  </tbody>\n",
       "</table>\n",
       "<p>5 rows × 34 columns</p>\n",
       "</div>"
      ],
      "text/plain": [
       "                Source         Destination  Monday  Elections  Military  \\\n",
       "0     www.facebook.com  www.politifact.com       6          0         0   \n",
       "1   nationalreport.net  www.whitehouse.gov       0          0         0   \n",
       "2  www.naturalnews.com         www.cdc.gov       0          0         0   \n",
       "3     www.facebook.com      www.snopes.com       0          0         0   \n",
       "4     www.infowars.com         www.cdc.gov       0          0         0   \n",
       "\n",
       "   Thursday  Religion  Friday  Saturday  TRUE  ...    DestSite_outdeg_real  \\\n",
       "0         4         0       1         0     0  ...                     0.0   \n",
       "1        14         0       0         0     0  ...                     0.0   \n",
       "2         0         0       0         0     0  ...                     0.0   \n",
       "3         0         0       2         0     1  ...                     0.0   \n",
       "4         0         0       0         0     0  ...                     0.0   \n",
       "\n",
       "   SourceSite_outdeg_fake  DestSite_outdeg_fake  SourceSite_indeg_fake  \\\n",
       "0                     225                  35.0                   10.0   \n",
       "1                      25                   0.0                    4.0   \n",
       "2                      17                   0.0                    0.0   \n",
       "3                     225                   6.0                   10.0   \n",
       "4                      21                   0.0                    3.0   \n",
       "\n",
       "   DestSite_indeg_fake  DestSite_indeg_real  SourceSite_indeg_real  \\\n",
       "0                   75                    7                    1.0   \n",
       "1                   23                    5                    0.0   \n",
       "2                   18                    0                    0.0   \n",
       "3                   33                    1                    1.0   \n",
       "4                   18                    0                    0.0   \n",
       "\n",
       "   mutuality_ind  MedianPolarityScore  Label  \n",
       "0            1.0               0.0000      0  \n",
       "1            0.0               0.5106      0  \n",
       "2            0.0              -0.8834      0  \n",
       "3            0.0               0.0000      0  \n",
       "4            0.0              -0.6808      0  \n",
       "\n",
       "[5 rows x 34 columns]"
      ]
     },
     "execution_count": 7,
     "metadata": {},
     "output_type": "execute_result"
    }
   ],
   "source": [
    "d.head()"
   ]
  },
  {
   "cell_type": "code",
   "execution_count": 18,
   "metadata": {
    "collapsed": true
   },
   "outputs": [],
   "source": [
    "features=['Monday','Thursday','Friday', 'Saturday', 'Tuesday',\n",
    "       'Wednesday', 'Sunday', 'page_url',\n",
    "       'jaccard_coeff_connection', 'Neighbor_connection',\n",
    "       'jaccard_coeff_common_destination', 'Neighbor_common_destination',\n",
    "       'jaccard_coeff_common_source', 'Neighbor_common_source',\n",
    "       'SourceSite_outdeg_fake', 'DestSite_outdeg_fake',\n",
    "       'SourceSite_indeg_fake', 'DestSite_indeg_fake', 'mutuality_ind',\n",
    "         'MedianPolarityScore']"
   ]
  },
  {
   "cell_type": "code",
   "execution_count": 19,
   "metadata": {
    "collapsed": false
   },
   "outputs": [
    {
     "data": {
      "text/plain": [
       "0    1.826421\n",
       "1    0.463144\n",
       "2    0.463144\n",
       "3    0.463144\n",
       "4    0.463144\n",
       "Name: Monday, dtype: float64"
      ]
     },
     "execution_count": 19,
     "metadata": {},
     "output_type": "execute_result"
    }
   ],
   "source": [
    "for col in ['Monday', 'Tuesday', 'Wednesday', \n",
    "                            'Thursday','Friday', 'Saturday', 'Sunday']:\n",
    "    mean = d[col].mean()\n",
    "    std = d[col].std()\n",
    "    if std != 0:\n",
    "        d[col] = d[col].apply(lambda row: (row - mean)/std)\n",
    "        d[col] = d[col].apply(lambda row: math.log(row+2))\n",
    "    else:\n",
    "        d[col] = 0\n",
    "        \n",
    "#d['Label'] = d['FAKE']/(d['TRUE'] + d['FAKE'])\n",
    "#Check for class imblanace\n",
    "#print(float(sum(d['Label']==0))/len(d))\n",
    "\n",
    "#Ready for model\n",
    "X=d[features]\n",
    "Y=d['Label']\n",
    "d['Monday'].head()"
   ]
  },
  {
   "cell_type": "code",
   "execution_count": 20,
   "metadata": {
    "collapsed": false
   },
   "outputs": [
    {
     "data": {
      "text/html": [
       "<div>\n",
       "<table border=\"1\" class=\"dataframe\">\n",
       "  <thead>\n",
       "    <tr style=\"text-align: right;\">\n",
       "      <th></th>\n",
       "      <th>Source</th>\n",
       "      <th>Destination</th>\n",
       "      <th>Monday</th>\n",
       "      <th>Elections</th>\n",
       "      <th>Military</th>\n",
       "      <th>Thursday</th>\n",
       "      <th>Religion</th>\n",
       "      <th>Friday</th>\n",
       "      <th>Saturday</th>\n",
       "      <th>TRUE</th>\n",
       "      <th>...</th>\n",
       "      <th>DestSite_outdeg_real</th>\n",
       "      <th>SourceSite_outdeg_fake</th>\n",
       "      <th>DestSite_outdeg_fake</th>\n",
       "      <th>SourceSite_indeg_fake</th>\n",
       "      <th>DestSite_indeg_fake</th>\n",
       "      <th>DestSite_indeg_real</th>\n",
       "      <th>SourceSite_indeg_real</th>\n",
       "      <th>mutuality_ind</th>\n",
       "      <th>MedianPolarityScore</th>\n",
       "      <th>Label</th>\n",
       "    </tr>\n",
       "  </thead>\n",
       "  <tbody>\n",
       "    <tr>\n",
       "      <th>0</th>\n",
       "      <td>www.facebook.com</td>\n",
       "      <td>www.politifact.com</td>\n",
       "      <td>1.826421</td>\n",
       "      <td>0</td>\n",
       "      <td>0</td>\n",
       "      <td>1.657202</td>\n",
       "      <td>0</td>\n",
       "      <td>1.372254</td>\n",
       "      <td>0</td>\n",
       "      <td>0</td>\n",
       "      <td>...</td>\n",
       "      <td>0.0</td>\n",
       "      <td>225</td>\n",
       "      <td>35.0</td>\n",
       "      <td>10.0</td>\n",
       "      <td>75</td>\n",
       "      <td>7</td>\n",
       "      <td>1.0</td>\n",
       "      <td>1.0</td>\n",
       "      <td>0.0000</td>\n",
       "      <td>0</td>\n",
       "    </tr>\n",
       "    <tr>\n",
       "      <th>1</th>\n",
       "      <td>nationalreport.net</td>\n",
       "      <td>www.whitehouse.gov</td>\n",
       "      <td>0.463144</td>\n",
       "      <td>0</td>\n",
       "      <td>0</td>\n",
       "      <td>1.849079</td>\n",
       "      <td>0</td>\n",
       "      <td>0.415207</td>\n",
       "      <td>0</td>\n",
       "      <td>0</td>\n",
       "      <td>...</td>\n",
       "      <td>0.0</td>\n",
       "      <td>25</td>\n",
       "      <td>0.0</td>\n",
       "      <td>4.0</td>\n",
       "      <td>23</td>\n",
       "      <td>5</td>\n",
       "      <td>0.0</td>\n",
       "      <td>0.0</td>\n",
       "      <td>0.5106</td>\n",
       "      <td>0</td>\n",
       "    </tr>\n",
       "    <tr>\n",
       "      <th>2</th>\n",
       "      <td>www.naturalnews.com</td>\n",
       "      <td>www.cdc.gov</td>\n",
       "      <td>0.463144</td>\n",
       "      <td>0</td>\n",
       "      <td>0</td>\n",
       "      <td>0.393527</td>\n",
       "      <td>0</td>\n",
       "      <td>0.415207</td>\n",
       "      <td>0</td>\n",
       "      <td>0</td>\n",
       "      <td>...</td>\n",
       "      <td>0.0</td>\n",
       "      <td>17</td>\n",
       "      <td>0.0</td>\n",
       "      <td>0.0</td>\n",
       "      <td>18</td>\n",
       "      <td>0</td>\n",
       "      <td>0.0</td>\n",
       "      <td>0.0</td>\n",
       "      <td>-0.8834</td>\n",
       "      <td>0</td>\n",
       "    </tr>\n",
       "    <tr>\n",
       "      <th>3</th>\n",
       "      <td>www.facebook.com</td>\n",
       "      <td>www.snopes.com</td>\n",
       "      <td>0.463144</td>\n",
       "      <td>0</td>\n",
       "      <td>0</td>\n",
       "      <td>0.393527</td>\n",
       "      <td>0</td>\n",
       "      <td>1.542913</td>\n",
       "      <td>0</td>\n",
       "      <td>1</td>\n",
       "      <td>...</td>\n",
       "      <td>0.0</td>\n",
       "      <td>225</td>\n",
       "      <td>6.0</td>\n",
       "      <td>10.0</td>\n",
       "      <td>33</td>\n",
       "      <td>1</td>\n",
       "      <td>1.0</td>\n",
       "      <td>0.0</td>\n",
       "      <td>0.0000</td>\n",
       "      <td>0</td>\n",
       "    </tr>\n",
       "    <tr>\n",
       "      <th>4</th>\n",
       "      <td>www.infowars.com</td>\n",
       "      <td>www.cdc.gov</td>\n",
       "      <td>0.463144</td>\n",
       "      <td>0</td>\n",
       "      <td>0</td>\n",
       "      <td>0.393527</td>\n",
       "      <td>0</td>\n",
       "      <td>0.415207</td>\n",
       "      <td>0</td>\n",
       "      <td>0</td>\n",
       "      <td>...</td>\n",
       "      <td>0.0</td>\n",
       "      <td>21</td>\n",
       "      <td>0.0</td>\n",
       "      <td>3.0</td>\n",
       "      <td>18</td>\n",
       "      <td>0</td>\n",
       "      <td>0.0</td>\n",
       "      <td>0.0</td>\n",
       "      <td>-0.6808</td>\n",
       "      <td>0</td>\n",
       "    </tr>\n",
       "  </tbody>\n",
       "</table>\n",
       "<p>5 rows × 34 columns</p>\n",
       "</div>"
      ],
      "text/plain": [
       "                Source         Destination    Monday  Elections  Military  \\\n",
       "0     www.facebook.com  www.politifact.com  1.826421          0         0   \n",
       "1   nationalreport.net  www.whitehouse.gov  0.463144          0         0   \n",
       "2  www.naturalnews.com         www.cdc.gov  0.463144          0         0   \n",
       "3     www.facebook.com      www.snopes.com  0.463144          0         0   \n",
       "4     www.infowars.com         www.cdc.gov  0.463144          0         0   \n",
       "\n",
       "   Thursday  Religion    Friday  Saturday  TRUE  ...    DestSite_outdeg_real  \\\n",
       "0  1.657202         0  1.372254         0     0  ...                     0.0   \n",
       "1  1.849079         0  0.415207         0     0  ...                     0.0   \n",
       "2  0.393527         0  0.415207         0     0  ...                     0.0   \n",
       "3  0.393527         0  1.542913         0     1  ...                     0.0   \n",
       "4  0.393527         0  0.415207         0     0  ...                     0.0   \n",
       "\n",
       "   SourceSite_outdeg_fake  DestSite_outdeg_fake  SourceSite_indeg_fake  \\\n",
       "0                     225                  35.0                   10.0   \n",
       "1                      25                   0.0                    4.0   \n",
       "2                      17                   0.0                    0.0   \n",
       "3                     225                   6.0                   10.0   \n",
       "4                      21                   0.0                    3.0   \n",
       "\n",
       "   DestSite_indeg_fake  DestSite_indeg_real  SourceSite_indeg_real  \\\n",
       "0                   75                    7                    1.0   \n",
       "1                   23                    5                    0.0   \n",
       "2                   18                    0                    0.0   \n",
       "3                   33                    1                    1.0   \n",
       "4                   18                    0                    0.0   \n",
       "\n",
       "   mutuality_ind  MedianPolarityScore  Label  \n",
       "0            1.0               0.0000      0  \n",
       "1            0.0               0.5106      0  \n",
       "2            0.0              -0.8834      0  \n",
       "3            0.0               0.0000      0  \n",
       "4            0.0              -0.6808      0  \n",
       "\n",
       "[5 rows x 34 columns]"
      ]
     },
     "execution_count": 20,
     "metadata": {},
     "output_type": "execute_result"
    }
   ],
   "source": [
    "d.head()"
   ]
  },
  {
   "cell_type": "code",
   "execution_count": 21,
   "metadata": {
    "collapsed": false
   },
   "outputs": [],
   "source": [
    "#Random Forest, GBM\n",
    "\n",
    "#Make AUC the performance metric\n",
    "models = {'RF':{'model':RandomForestClassifier(),\n",
    "                     'Params':{'n_estimators':range(50,70,10),\n",
    "                              'max_depth':range(2,5),\n",
    "                              'class_weight': ['balanced']}},\n",
    "                \n",
    "         'GBM':{'model':GradientBoostingClassifier(),\n",
    "                     'Params':{'n_estimators':range(50,100,10),\n",
    "                               'max_depth':range(2,5),\n",
    "                               'learning_rate':linspace(0.1,0.5,num=20)}}}"
   ]
  },
  {
   "cell_type": "code",
   "execution_count": 22,
   "metadata": {
    "collapsed": false
   },
   "outputs": [
    {
     "name": "stdout",
     "output_type": "stream",
     "text": [
      "Number of features: 20\n",
      "Number of records 1286\n"
     ]
    }
   ],
   "source": [
    "print('Number of features:', len(X.columns))\n",
    "print('Number of records', len(d))"
   ]
  },
  {
   "cell_type": "code",
   "execution_count": 23,
   "metadata": {
    "collapsed": false
   },
   "outputs": [],
   "source": [
    "def modeleva(cvfolds):\n",
    "    allmodels={}\n",
    "    for model in models.keys():\n",
    "        grid = GridSearchCV(estimator=models[model]['model'], \n",
    "                            param_grid=models[model]['Params'],\n",
    "                            cv=cvfolds, n_jobs=-1,scoring='roc_auc')\n",
    "        modelstats={}\n",
    "        modelstats['model']=grid.fit(X, Y)\n",
    "        modelstats['best_estimator']=modelstats['model'].best_estimator_\n",
    "        modelstats['best_score']=modelstats['model'].best_score_\n",
    "        allmodels[model]=modelstats\n",
    "        del modelstats\n",
    "        print(model)\n",
    "    results=pd.DataFrame.from_dict(allmodels).T.sort_values(by='best_score')\n",
    "    results=results.reset_index()\n",
    "    return(results)"
   ]
  },
  {
   "cell_type": "code",
   "execution_count": null,
   "metadata": {
    "collapsed": false
   },
   "outputs": [
    {
     "name": "stdout",
     "output_type": "stream",
     "text": [
      "RF\n"
     ]
    }
   ],
   "source": [
    "allresults=modeleva(5)\n",
    "allresults"
   ]
  },
  {
   "cell_type": "code",
   "execution_count": 35,
   "metadata": {
    "collapsed": false
   },
   "outputs": [
    {
     "data": {
      "text/plain": [
       "RandomForestClassifier(bootstrap=True, class_weight=None, criterion='gini',\n",
       "            max_depth=4, max_features='auto', max_leaf_nodes=None,\n",
       "            min_impurity_split=1e-07, min_samples_leaf=1,\n",
       "            min_samples_split=2, min_weight_fraction_leaf=0.0,\n",
       "            n_estimators=60, n_jobs=1, oob_score=False, random_state=None,\n",
       "            verbose=0, warm_start=False)"
      ]
     },
     "execution_count": 35,
     "metadata": {},
     "output_type": "execute_result"
    }
   ],
   "source": [
    "allresults['best_estimator'][0]"
   ]
  }
 ],
 "metadata": {
  "anaconda-cloud": {},
  "kernelspec": {
   "display_name": "Python [conda root]",
   "language": "python",
   "name": "conda-root-py"
  },
  "language_info": {
   "codemirror_mode": {
    "name": "ipython",
    "version": 3
   },
   "file_extension": ".py",
   "mimetype": "text/x-python",
   "name": "python",
   "nbconvert_exporter": "python",
   "pygments_lexer": "ipython3",
   "version": "3.5.2"
  }
 },
 "nbformat": 4,
 "nbformat_minor": 1
}
