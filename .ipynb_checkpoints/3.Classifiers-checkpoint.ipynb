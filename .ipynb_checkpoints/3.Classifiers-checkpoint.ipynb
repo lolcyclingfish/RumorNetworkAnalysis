{
 "cells": [
  {
   "cell_type": "markdown",
   "metadata": {},
   "source": [
    "### 3. Classifiers\n",
    "\n",
    "This notebook to classify the probability of fake news traveling from A to B."
   ]
  },
  {
   "cell_type": "code",
   "execution_count": 1,
   "metadata": {
    "collapsed": false
   },
   "outputs": [
    {
     "name": "stdout",
     "output_type": "stream",
     "text": [
      "ClassificationModelInput.csv  pol_agg_new.csv\r\n",
      "\u001b[31memergent.csv\u001b[m\u001b[m*                 \u001b[31mpolitifact.csv\u001b[m\u001b[m*\r\n",
      "fake_localcentralities.csv    politifact_clean.csv\r\n",
      "key_mutuality_roshan.csv      real_localcentralities.csv\r\n",
      "keys.csv                      \u001b[31msnopes.csv\u001b[m\u001b[m*\r\n"
     ]
    }
   ],
   "source": [
    "ls data"
   ]
  },
  {
   "cell_type": "code",
   "execution_count": 2,
   "metadata": {
    "collapsed": false
   },
   "outputs": [
    {
     "name": "stdout",
     "output_type": "stream",
     "text": [
      "Populating the interactive namespace from numpy and matplotlib\n"
     ]
    }
   ],
   "source": [
    "%pylab inline\n",
    "import pandas as pd, pyprind\n",
    "\n",
    "from sklearn.ensemble import GradientBoostingClassifier, RandomForestClassifier\n",
    "from sklearn.model_selection import GridSearchCV\n",
    "from sklearn.metrics import roc_auc_score,make_scorer"
   ]
  },
  {
   "cell_type": "code",
   "execution_count": 3,
   "metadata": {
    "collapsed": false
   },
   "outputs": [
    {
     "name": "stdout",
     "output_type": "stream",
     "text": [
      "Index(['Source', 'Destination', 'Monday', 'Elections', 'Military', 'Thursday',\n",
      "       'Religion', 'Friday', 'Saturday', 'TRUE', 'History', 'Tuesday',\n",
      "       'Wednesday', 'Sunday', 'page_url', 'Health Care', 'FALSE',\n",
      "       'jaccard_coeff_connection', 'Neighbor_connection',\n",
      "       'jaccard_coeff_common_destination', 'Neighbor_common_destination',\n",
      "       'jaccard_coeff_common_source', 'Neighbor_common_source',\n",
      "       'SourceSite_outdeg_real', 'DestSite_outdeg_real',\n",
      "       'SourceSite_outdeg_fake', 'DestSite_outdeg_fake',\n",
      "       'SourceSite_indeg_fake', 'DestSite_indeg_fake', 'DestSite_indeg_real',\n",
      "       'SourceSite_indeg_real', 'mutuality_ind', 'PolarityScore'],\n",
      "      dtype='object')\n"
     ]
    }
   ],
   "source": [
    "d=pd.read_csv('data/ClassificationModelInput.csv')\n",
    "sum(sum(d.isnull())) #No NA\n",
    "print(d.columns)"
   ]
  },
  {
   "cell_type": "code",
   "execution_count": 4,
   "metadata": {
    "collapsed": false
   },
   "outputs": [
    {
     "data": {
      "text/html": [
       "<div>\n",
       "<table border=\"1\" class=\"dataframe\">\n",
       "  <thead>\n",
       "    <tr style=\"text-align: right;\">\n",
       "      <th></th>\n",
       "      <th>Source</th>\n",
       "      <th>Destination</th>\n",
       "      <th>Monday</th>\n",
       "      <th>Elections</th>\n",
       "      <th>Military</th>\n",
       "      <th>Thursday</th>\n",
       "      <th>Religion</th>\n",
       "      <th>Friday</th>\n",
       "      <th>Saturday</th>\n",
       "      <th>TRUE</th>\n",
       "      <th>...</th>\n",
       "      <th>SourceSite_outdeg_real</th>\n",
       "      <th>DestSite_outdeg_real</th>\n",
       "      <th>SourceSite_outdeg_fake</th>\n",
       "      <th>DestSite_outdeg_fake</th>\n",
       "      <th>SourceSite_indeg_fake</th>\n",
       "      <th>DestSite_indeg_fake</th>\n",
       "      <th>DestSite_indeg_real</th>\n",
       "      <th>SourceSite_indeg_real</th>\n",
       "      <th>mutuality_ind</th>\n",
       "      <th>PolarityScore</th>\n",
       "    </tr>\n",
       "  </thead>\n",
       "  <tbody>\n",
       "    <tr>\n",
       "      <th>0</th>\n",
       "      <td>www.documentcloud.org</td>\n",
       "      <td>www.politifact.com</td>\n",
       "      <td>0</td>\n",
       "      <td>0</td>\n",
       "      <td>0</td>\n",
       "      <td>0</td>\n",
       "      <td>0</td>\n",
       "      <td>0</td>\n",
       "      <td>0</td>\n",
       "      <td>0</td>\n",
       "      <td>...</td>\n",
       "      <td>0</td>\n",
       "      <td>0.0</td>\n",
       "      <td>6</td>\n",
       "      <td>0.0</td>\n",
       "      <td>2.0</td>\n",
       "      <td>3</td>\n",
       "      <td>1</td>\n",
       "      <td>0.0</td>\n",
       "      <td>0.0</td>\n",
       "      <td>-0.2960</td>\n",
       "    </tr>\n",
       "    <tr>\n",
       "      <th>1</th>\n",
       "      <td>jumpinginpools.blogspot.com</td>\n",
       "      <td>townhall.com</td>\n",
       "      <td>3</td>\n",
       "      <td>0</td>\n",
       "      <td>0</td>\n",
       "      <td>0</td>\n",
       "      <td>0</td>\n",
       "      <td>0</td>\n",
       "      <td>0</td>\n",
       "      <td>0</td>\n",
       "      <td>...</td>\n",
       "      <td>0</td>\n",
       "      <td>0.0</td>\n",
       "      <td>9</td>\n",
       "      <td>0.0</td>\n",
       "      <td>0.0</td>\n",
       "      <td>3</td>\n",
       "      <td>0</td>\n",
       "      <td>0.0</td>\n",
       "      <td>0.0</td>\n",
       "      <td>-0.3612</td>\n",
       "    </tr>\n",
       "    <tr>\n",
       "      <th>2</th>\n",
       "      <td>jumpinginpools.blogspot.com</td>\n",
       "      <td>pajamasmedia.com</td>\n",
       "      <td>2</td>\n",
       "      <td>0</td>\n",
       "      <td>0</td>\n",
       "      <td>0</td>\n",
       "      <td>0</td>\n",
       "      <td>0</td>\n",
       "      <td>0</td>\n",
       "      <td>0</td>\n",
       "      <td>...</td>\n",
       "      <td>0</td>\n",
       "      <td>0.0</td>\n",
       "      <td>9</td>\n",
       "      <td>0.0</td>\n",
       "      <td>0.0</td>\n",
       "      <td>2</td>\n",
       "      <td>0</td>\n",
       "      <td>0.0</td>\n",
       "      <td>0.0</td>\n",
       "      <td>-0.3612</td>\n",
       "    </tr>\n",
       "    <tr>\n",
       "      <th>3</th>\n",
       "      <td>www.billhislam.com</td>\n",
       "      <td>www.nashvillescene.com</td>\n",
       "      <td>2</td>\n",
       "      <td>0</td>\n",
       "      <td>0</td>\n",
       "      <td>0</td>\n",
       "      <td>0</td>\n",
       "      <td>0</td>\n",
       "      <td>0</td>\n",
       "      <td>0</td>\n",
       "      <td>...</td>\n",
       "      <td>0</td>\n",
       "      <td>0.0</td>\n",
       "      <td>6</td>\n",
       "      <td>0.0</td>\n",
       "      <td>0.0</td>\n",
       "      <td>2</td>\n",
       "      <td>0</td>\n",
       "      <td>0.0</td>\n",
       "      <td>0.0</td>\n",
       "      <td>0.7906</td>\n",
       "    </tr>\n",
       "    <tr>\n",
       "      <th>4</th>\n",
       "      <td>static.prisonplanet.com</td>\n",
       "      <td>www.healthcare.gov</td>\n",
       "      <td>0</td>\n",
       "      <td>0</td>\n",
       "      <td>0</td>\n",
       "      <td>0</td>\n",
       "      <td>0</td>\n",
       "      <td>2</td>\n",
       "      <td>0</td>\n",
       "      <td>0</td>\n",
       "      <td>...</td>\n",
       "      <td>0</td>\n",
       "      <td>0.0</td>\n",
       "      <td>9</td>\n",
       "      <td>0.0</td>\n",
       "      <td>0.0</td>\n",
       "      <td>2</td>\n",
       "      <td>0</td>\n",
       "      <td>0.0</td>\n",
       "      <td>0.0</td>\n",
       "      <td>0.3182</td>\n",
       "    </tr>\n",
       "  </tbody>\n",
       "</table>\n",
       "<p>5 rows × 33 columns</p>\n",
       "</div>"
      ],
      "text/plain": [
       "                        Source             Destination  Monday  Elections  \\\n",
       "0        www.documentcloud.org      www.politifact.com       0          0   \n",
       "1  jumpinginpools.blogspot.com            townhall.com       3          0   \n",
       "2  jumpinginpools.blogspot.com        pajamasmedia.com       2          0   \n",
       "3           www.billhislam.com  www.nashvillescene.com       2          0   \n",
       "4      static.prisonplanet.com      www.healthcare.gov       0          0   \n",
       "\n",
       "   Military  Thursday  Religion  Friday  Saturday  TRUE      ...        \\\n",
       "0         0         0         0       0         0     0      ...         \n",
       "1         0         0         0       0         0     0      ...         \n",
       "2         0         0         0       0         0     0      ...         \n",
       "3         0         0         0       0         0     0      ...         \n",
       "4         0         0         0       2         0     0      ...         \n",
       "\n",
       "   SourceSite_outdeg_real  DestSite_outdeg_real  SourceSite_outdeg_fake  \\\n",
       "0                       0                   0.0                       6   \n",
       "1                       0                   0.0                       9   \n",
       "2                       0                   0.0                       9   \n",
       "3                       0                   0.0                       6   \n",
       "4                       0                   0.0                       9   \n",
       "\n",
       "   DestSite_outdeg_fake  SourceSite_indeg_fake  DestSite_indeg_fake  \\\n",
       "0                   0.0                    2.0                    3   \n",
       "1                   0.0                    0.0                    3   \n",
       "2                   0.0                    0.0                    2   \n",
       "3                   0.0                    0.0                    2   \n",
       "4                   0.0                    0.0                    2   \n",
       "\n",
       "   DestSite_indeg_real  SourceSite_indeg_real  mutuality_ind  PolarityScore  \n",
       "0                    1                    0.0            0.0        -0.2960  \n",
       "1                    0                    0.0            0.0        -0.3612  \n",
       "2                    0                    0.0            0.0        -0.3612  \n",
       "3                    0                    0.0            0.0         0.7906  \n",
       "4                    0                    0.0            0.0         0.3182  \n",
       "\n",
       "[5 rows x 33 columns]"
      ]
     },
     "execution_count": 4,
     "metadata": {},
     "output_type": "execute_result"
    }
   ],
   "source": [
    "d.head()"
   ]
  },
  {
   "cell_type": "code",
   "execution_count": 9,
   "metadata": {
    "collapsed": true
   },
   "outputs": [],
   "source": [
    "features=['Monday', 'Elections', 'Military', 'Thursday',\n",
    "       'Religion', 'Friday', 'Saturday','History', 'Tuesday',\n",
    "       'Wednesday', 'Sunday', 'page_url', 'Health Care',\n",
    "       'jaccard_coeff_connection', 'Neighbor_connection',\n",
    "       'jaccard_coeff_common_destination', 'Neighbor_common_destination',\n",
    "       'jaccard_coeff_common_source', 'Neighbor_common_source',\n",
    "       'SourceSite_outdeg_fake', 'DestSite_outdeg_fake',\n",
    "       'SourceSite_indeg_fake', 'DestSite_indeg_fake', 'mutuality_ind','PolarityScore']"
   ]
  },
  {
   "cell_type": "code",
   "execution_count": 15,
   "metadata": {
    "collapsed": false
   },
   "outputs": [
    {
     "data": {
      "text/plain": [
       "0    0.375683\n",
       "1    1.343641\n",
       "2    1.339300\n",
       "3    1.339300\n",
       "4    0.375683\n",
       "Name: Monday, dtype: float64"
      ]
     },
     "execution_count": 15,
     "metadata": {},
     "output_type": "execute_result"
    }
   ],
   "source": [
    "for col in ['Monday', 'Tuesday', 'Wednesday', \n",
    "                            'Thursday','Friday', 'Saturday', 'Sunday']:\n",
    "    mean = d[col].mean()\n",
    "    std = d[col].std()\n",
    "    if std != 0:\n",
    "        d[col] = d[col].apply(lambda row: (row - mean)/std)\n",
    "        d[col] = d[col].apply(lambda row: math.log(row+2))\n",
    "    else:\n",
    "        d[col] = 0\n",
    "        \n",
    "d['Label']=d['FALSE'].apply(lambda x: int(x>0))\n",
    "#d['Label'] = d['FAKE']/(d['TRUE'] + d['FAKE'])\n",
    "#Check for class imblanace\n",
    "#print(float(sum(d['Label']==0))/len(d))\n",
    "\n",
    "#Ready for model\n",
    "X=d[features]\n",
    "Y=d['Label']\n",
    "d['Monday'].head()"
   ]
  },
  {
   "cell_type": "code",
   "execution_count": 16,
   "metadata": {
    "collapsed": false
   },
   "outputs": [],
   "source": [
    "#Random Forest, GBM\n",
    "\n",
    "#Make AUC the performance metric\n",
    "models = {'RF':{'model':RandomForestClassifier(),\n",
    "                     'Params':{'n_estimators':range(50,70,10),\n",
    "                              'max_depth':range(2,5),\n",
    "                              'class_weight': 'balanced'}},\n",
    "                \n",
    "         'GBM':{'model':GradientBoostingClassifier(),\n",
    "                     'Params':{'n_estimators':range(50,100,10),\n",
    "                               'max_depth':range(2,5),\n",
    "                               'learning_rate':linspace(0.1,0.5,num=20)}}}"
   ]
  },
  {
   "cell_type": "code",
   "execution_count": 17,
   "metadata": {
    "collapsed": false
   },
   "outputs": [
    {
     "name": "stdout",
     "output_type": "stream",
     "text": [
      "Number of features: 25\n",
      "Number of records 43\n"
     ]
    }
   ],
   "source": [
    "print('Number of features:', len(X.columns))\n",
    "print('Number of records', len(d))"
   ]
  },
  {
   "cell_type": "code",
   "execution_count": 20,
   "metadata": {
    "collapsed": false
   },
   "outputs": [],
   "source": [
    "def modeleva(cvfolds):\n",
    "    allmodels={}\n",
    "    for model in models.keys():\n",
    "        grid = GridSearchCV(estimator=models[model]['model'], \n",
    "                            param_grid=models[model]['Params'],\n",
    "                            cv=cvfolds, n_jobs=-1,scoring='roc_auc')\n",
    "        modelstats={}\n",
    "        modelstats['model']=grid.fit(X, Y)\n",
    "        modelstats['best_estimator']=modelstats['model'].best_estimator_\n",
    "        modelstats['best_score']=modelstats['model'].best_score_\n",
    "        allmodels[model]=modelstats\n",
    "        del modelstats\n",
    "        print(model)\n",
    "    results=pd.DataFrame.from_dict(allmodels).T.sort_values(by='best_score')\n",
    "    results=results.reset_index()\n",
    "    return(results)"
   ]
  },
  {
   "cell_type": "code",
   "execution_count": 21,
   "metadata": {
    "collapsed": false
   },
   "outputs": [
    {
     "ename": "ValueError",
     "evalue": "Parameter values for parameter (class_weight) need to be a sequence(but not a string) or np.ndarray.",
     "output_type": "error",
     "traceback": [
      "\u001b[0;31m---------------------------------------------------------------------------\u001b[0m",
      "\u001b[0;31mValueError\u001b[0m                                Traceback (most recent call last)",
      "\u001b[0;32m<ipython-input-21-79c584a2c3e6>\u001b[0m in \u001b[0;36m<module>\u001b[0;34m()\u001b[0m\n\u001b[0;32m----> 1\u001b[0;31m \u001b[0mallresults\u001b[0m\u001b[0;34m=\u001b[0m\u001b[0mmodeleva\u001b[0m\u001b[0;34m(\u001b[0m\u001b[0;36m5\u001b[0m\u001b[0;34m)\u001b[0m\u001b[0;34m\u001b[0m\u001b[0m\n\u001b[0m\u001b[1;32m      2\u001b[0m \u001b[0mallresults\u001b[0m\u001b[0;34m\u001b[0m\u001b[0m\n",
      "\u001b[0;32m<ipython-input-20-012c70b59a2e>\u001b[0m in \u001b[0;36mmodeleva\u001b[0;34m(cvfolds)\u001b[0m\n\u001b[1;32m      4\u001b[0m         grid = GridSearchCV(estimator=models[model]['model'], \n\u001b[1;32m      5\u001b[0m                             \u001b[0mparam_grid\u001b[0m\u001b[0;34m=\u001b[0m\u001b[0mmodels\u001b[0m\u001b[0;34m[\u001b[0m\u001b[0mmodel\u001b[0m\u001b[0;34m]\u001b[0m\u001b[0;34m[\u001b[0m\u001b[0;34m'Params'\u001b[0m\u001b[0;34m]\u001b[0m\u001b[0;34m,\u001b[0m\u001b[0;34m\u001b[0m\u001b[0m\n\u001b[0;32m----> 6\u001b[0;31m                             cv=cvfolds, n_jobs=-1,scoring='roc_auc')\n\u001b[0m\u001b[1;32m      7\u001b[0m         \u001b[0mmodelstats\u001b[0m\u001b[0;34m=\u001b[0m\u001b[0;34m{\u001b[0m\u001b[0;34m}\u001b[0m\u001b[0;34m\u001b[0m\u001b[0m\n\u001b[1;32m      8\u001b[0m         \u001b[0mmodelstats\u001b[0m\u001b[0;34m[\u001b[0m\u001b[0;34m'model'\u001b[0m\u001b[0;34m]\u001b[0m\u001b[0;34m=\u001b[0m\u001b[0mgrid\u001b[0m\u001b[0;34m.\u001b[0m\u001b[0mfit\u001b[0m\u001b[0;34m(\u001b[0m\u001b[0mX\u001b[0m\u001b[0;34m,\u001b[0m \u001b[0mY\u001b[0m\u001b[0;34m)\u001b[0m\u001b[0;34m\u001b[0m\u001b[0m\n",
      "\u001b[0;32m/Users/laurengyu/anaconda/lib/python3.5/site-packages/sklearn/model_selection/_search.py\u001b[0m in \u001b[0;36m__init__\u001b[0;34m(self, estimator, param_grid, scoring, fit_params, n_jobs, iid, refit, cv, verbose, pre_dispatch, error_score, return_train_score)\u001b[0m\n\u001b[1;32m    923\u001b[0m             return_train_score=return_train_score)\n\u001b[1;32m    924\u001b[0m         \u001b[0mself\u001b[0m\u001b[0;34m.\u001b[0m\u001b[0mparam_grid\u001b[0m \u001b[0;34m=\u001b[0m \u001b[0mparam_grid\u001b[0m\u001b[0;34m\u001b[0m\u001b[0m\n\u001b[0;32m--> 925\u001b[0;31m         \u001b[0m_check_param_grid\u001b[0m\u001b[0;34m(\u001b[0m\u001b[0mparam_grid\u001b[0m\u001b[0;34m)\u001b[0m\u001b[0;34m\u001b[0m\u001b[0m\n\u001b[0m\u001b[1;32m    926\u001b[0m \u001b[0;34m\u001b[0m\u001b[0m\n\u001b[1;32m    927\u001b[0m     \u001b[0;32mdef\u001b[0m \u001b[0mfit\u001b[0m\u001b[0;34m(\u001b[0m\u001b[0mself\u001b[0m\u001b[0;34m,\u001b[0m \u001b[0mX\u001b[0m\u001b[0;34m,\u001b[0m \u001b[0my\u001b[0m\u001b[0;34m=\u001b[0m\u001b[0;32mNone\u001b[0m\u001b[0;34m,\u001b[0m \u001b[0mgroups\u001b[0m\u001b[0;34m=\u001b[0m\u001b[0;32mNone\u001b[0m\u001b[0;34m)\u001b[0m\u001b[0;34m:\u001b[0m\u001b[0;34m\u001b[0m\u001b[0m\n",
      "\u001b[0;32m/Users/laurengyu/anaconda/lib/python3.5/site-packages/sklearn/model_selection/_search.py\u001b[0m in \u001b[0;36m_check_param_grid\u001b[0;34m(param_grid)\u001b[0m\n\u001b[1;32m    340\u001b[0m                 raise ValueError(\"Parameter values for parameter ({0}) need \"\n\u001b[1;32m    341\u001b[0m                                  \u001b[0;34m\"to be a sequence(but not a string) or\"\u001b[0m\u001b[0;34m\u001b[0m\u001b[0m\n\u001b[0;32m--> 342\u001b[0;31m                                  \" np.ndarray.\".format(name))\n\u001b[0m\u001b[1;32m    343\u001b[0m \u001b[0;34m\u001b[0m\u001b[0m\n\u001b[1;32m    344\u001b[0m             \u001b[0;32mif\u001b[0m \u001b[0mlen\u001b[0m\u001b[0;34m(\u001b[0m\u001b[0mv\u001b[0m\u001b[0;34m)\u001b[0m \u001b[0;34m==\u001b[0m \u001b[0;36m0\u001b[0m\u001b[0;34m:\u001b[0m\u001b[0;34m\u001b[0m\u001b[0m\n",
      "\u001b[0;31mValueError\u001b[0m: Parameter values for parameter (class_weight) need to be a sequence(but not a string) or np.ndarray."
     ]
    }
   ],
   "source": [
    "allresults=modeleva(5)\n",
    "allresults"
   ]
  },
  {
   "cell_type": "code",
   "execution_count": 35,
   "metadata": {
    "collapsed": false
   },
   "outputs": [
    {
     "data": {
      "text/plain": [
       "RandomForestClassifier(bootstrap=True, class_weight=None, criterion='gini',\n",
       "            max_depth=4, max_features='auto', max_leaf_nodes=None,\n",
       "            min_impurity_split=1e-07, min_samples_leaf=1,\n",
       "            min_samples_split=2, min_weight_fraction_leaf=0.0,\n",
       "            n_estimators=60, n_jobs=1, oob_score=False, random_state=None,\n",
       "            verbose=0, warm_start=False)"
      ]
     },
     "execution_count": 35,
     "metadata": {},
     "output_type": "execute_result"
    }
   ],
   "source": [
    "allresults['best_estimator'][0]"
   ]
  },
  {
   "cell_type": "code",
   "execution_count": 41,
   "metadata": {
    "collapsed": false
   },
   "outputs": [
    {
     "data": {
      "text/plain": [
       "GradientBoostingClassifier(criterion='friedman_mse', init=None,\n",
       "              learning_rate=0.10000000000000001, loss='deviance',\n",
       "              max_depth=4, max_features=None, max_leaf_nodes=None,\n",
       "              min_impurity_split=1e-07, min_samples_leaf=2,\n",
       "              min_samples_split=2, min_weight_fraction_leaf=0.0,\n",
       "              n_estimators=40, presort='auto', random_state=None,\n",
       "              subsample=1.0, verbose=0, warm_start=False)"
      ]
     },
     "execution_count": 41,
     "metadata": {},
     "output_type": "execute_result"
    }
   ],
   "source": [
    "bestmodel"
   ]
  }
 ],
 "metadata": {
  "anaconda-cloud": {},
  "kernelspec": {
   "display_name": "Python [conda root]",
   "language": "python",
   "name": "conda-root-py"
  },
  "language_info": {
   "codemirror_mode": {
    "name": "ipython",
    "version": 3
   },
   "file_extension": ".py",
   "mimetype": "text/x-python",
   "name": "python",
   "nbconvert_exporter": "python",
   "pygments_lexer": "ipython3",
   "version": "3.5.2"
  }
 },
 "nbformat": 4,
 "nbformat_minor": 1
}
