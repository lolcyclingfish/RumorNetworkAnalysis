{
 "cells": [
  {
   "cell_type": "markdown",
   "metadata": {},
   "source": [
    "### 3. Classifiers\n",
    "\n",
    "This notebook to classify whether fake news will travel from A to B."
   ]
  },
  {
   "cell_type": "code",
   "execution_count": 1,
   "metadata": {
    "collapsed": false
   },
   "outputs": [
    {
     "name": "stdout",
     "output_type": "stream",
     "text": [
      "Populating the interactive namespace from numpy and matplotlib\n"
     ]
    }
   ],
   "source": [
    "%pylab inline\n",
    "import pandas as pd, pyprind\n",
    "\n",
    "from sklearn.ensemble import GradientBoostingClassifier, RandomForestClassifier\n",
    "from sklearn.model_selection import GridSearchCV\n",
    "from sklearn.metrics import roc_auc_score,make_scorer"
   ]
  },
  {
   "cell_type": "code",
   "execution_count": 2,
   "metadata": {
    "collapsed": false
   },
   "outputs": [
    {
     "name": "stdout",
     "output_type": "stream",
     "text": [
      "ClassificationModelInput.csv  pol_agg.csv\r\n",
      "\u001b[31memergent.csv\u001b[m\u001b[m*                 \u001b[31mpolitifact.csv\u001b[m\u001b[m*\r\n",
      "fake_localcentralities.csv    politifact_clean.csv\r\n",
      "key_mutuality_roshan.csv      real_localcentralities.csv\r\n",
      "keys.csv                      \u001b[31msnopes.csv\u001b[m\u001b[m*\r\n"
     ]
    }
   ],
   "source": [
    "ls data"
   ]
  },
  {
   "cell_type": "code",
   "execution_count": 3,
   "metadata": {
    "collapsed": false
   },
   "outputs": [
    {
     "data": {
      "text/plain": [
       "Source                                      0\n",
       "Destination                                 0\n",
       "Total Volume                                0\n",
       "TRUE                                        0\n",
       "FAKE                                        0\n",
       "Source_Real_LocalDegreeCentralities         0\n",
       "Destination_Real_LocalDegreeCentralities    0\n",
       "Source_Real_LocalBetweenness                0\n",
       "Destination_Real_LocalBetweenness           0\n",
       "Source_Real_LocalCloseness                  0\n",
       "Destination_Real_LocalCloseness             0\n",
       "Source_Real_LocalEigenCentralities          0\n",
       "Destination_Real_LocalEigenCentralities     0\n",
       "Source_Fake_LocalDegreeCentralities         0\n",
       "Destination_Fake_LocalDegreeCentralities    0\n",
       "Source_Fake_LocalBetweenness                0\n",
       "Destination_Fake_LocalBetweenness           0\n",
       "Source_Fake_LocalCloseness                  0\n",
       "Destination_Fake_LocalCloseness             0\n",
       "Source_Fake_LocalEigenCentralities          0\n",
       "Destination_Fake_LocalEigenCentralities     0\n",
       "jaccard_coeff_connection                    0\n",
       "Neighbor_connection                         0\n",
       "jaccard_coeff_common_destination            0\n",
       "Neighbor_common_destination                 0\n",
       "jaccard_coeff_common_source                 0\n",
       "Neighbor_common_source                      0\n",
       "mutuality_ind                               0\n",
       "Label                                       0\n",
       "dtype: int64"
      ]
     },
     "execution_count": 3,
     "metadata": {},
     "output_type": "execute_result"
    }
   ],
   "source": [
    "d=pd.read_csv('data/ClassificationModelInput.csv')\n",
    "sum(d.isnull()) #No NA"
   ]
  },
  {
   "cell_type": "code",
   "execution_count": 4,
   "metadata": {
    "collapsed": false
   },
   "outputs": [
    {
     "name": "stdout",
     "output_type": "stream",
     "text": [
      "0.559619604974\n"
     ]
    }
   ],
   "source": [
    "d['Label']=d['FAKE'].apply(lambda x: int(x>0))\n",
    "\n",
    "#Check for class imblanace\n",
    "print(sum(d['Label']==0)/len(d))\n",
    "\n",
    "#Ready for model\n",
    "X=d[['Source_Fake_LocalDegreeCentralities',\n",
    "       'Destination_Fake_LocalDegreeCentralities',\n",
    "       'Source_Fake_LocalBetweenness', 'Destination_Fake_LocalBetweenness',\n",
    "       'Source_Fake_LocalCloseness', 'Destination_Fake_LocalCloseness',\n",
    "       'Source_Fake_LocalEigenCentralities',\n",
    "       'Destination_Fake_LocalEigenCentralities', 'jaccard_coeff_connection',\n",
    "       'Neighbor_connection', 'jaccard_coeff_common_destination',\n",
    "       'Neighbor_common_destination', 'jaccard_coeff_common_source',\n",
    "       'Neighbor_common_source', 'mutuality_ind']]\n",
    "Y=d['Label']"
   ]
  },
  {
   "cell_type": "code",
   "execution_count": 35,
   "metadata": {
    "collapsed": false
   },
   "outputs": [],
   "source": [
    "#Random Forest, GBM\n",
    "\n",
    "#Make AUC the performance metric\n",
    "auc_scorer=make_scorer(roc_auc_score,\n",
    "                       greater_is_better=True)\n",
    "\n",
    "models = {'RF':{'model':RandomForestClassifier(),\n",
    "                     'Params':{'n_estimators':range(12,20),\n",
    "                              'max_depth':range(2,5),\n",
    "                              'min_samples_leaf':range(3,8)}},\n",
    "         'GBM':{'model':GradientBoostingClassifier(),\n",
    "                     'Params':{'n_estimators':range(40,100,20),\n",
    "                               'max_depth':range(3,10),\n",
    "                               'learning_rate':linspace(0.1,0.8,num=5),\n",
    "                               'min_samples_leaf':range(2,8)}}}"
   ]
  },
  {
   "cell_type": "code",
   "execution_count": 36,
   "metadata": {
    "collapsed": false
   },
   "outputs": [
    {
     "name": "stdout",
     "output_type": "stream",
     "text": [
      "Number of features: 15\n",
      "Number of records 2734\n"
     ]
    }
   ],
   "source": [
    "print('Number of features:', len(X.columns))\n",
    "print('Number of records', len(d))"
   ]
  },
  {
   "cell_type": "code",
   "execution_count": 37,
   "metadata": {
    "collapsed": false
   },
   "outputs": [],
   "source": [
    "def modeleva(cvfolds):\n",
    "    allmodels={}\n",
    "    for model in models.keys():\n",
    "        grid = GridSearchCV(estimator=models[model]['model'], \n",
    "                            param_grid=models[model]['Params'],\n",
    "                            cv=cvfolds, n_jobs=-1,scoring=auc_scorer)\n",
    "        modelstats={}\n",
    "        modelstats['model']=grid.fit(X, Y)\n",
    "        modelstats['best_estimator']=modelstats['model'].best_estimator_\n",
    "        modelstats['best_score']=modelstats['model'].best_score_\n",
    "        allmodels[model]=modelstats\n",
    "        del modelstats\n",
    "        print(model)\n",
    "    results=pd.DataFrame.from_dict(allmodels).T.sort_values(by='best_score')\n",
    "    results=results.reset_index()\n",
    "    return(results)"
   ]
  },
  {
   "cell_type": "code",
   "execution_count": 39,
   "metadata": {
    "collapsed": false
   },
   "outputs": [
    {
     "name": "stdout",
     "output_type": "stream",
     "text": [
      "RF\n",
      "GBM\n",
      "RF\n",
      "GBM\n",
      "RF\n",
      "GBM\n"
     ]
    }
   ],
   "source": [
    "replicates=3\n",
    "allresults=[modeleva(5) for i in range(replicates)]\n",
    "allresults=pd.concat(allresults)"
   ]
  },
  {
   "cell_type": "code",
   "execution_count": 40,
   "metadata": {
    "collapsed": false
   },
   "outputs": [
    {
     "name": "stdout",
     "output_type": "stream",
     "text": [
      "index\n",
      "GBM    0.580503\n",
      "RF     0.572392\n",
      "Name: best_score, dtype: float64\n"
     ]
    }
   ],
   "source": [
    "print((allresults.groupby('index')['best_score'].sum()/replicates).sort_values(ascending=False))\n",
    "bestmodel=(allresults.groupby('index')['best_score'].sum()/replicates).sort_values(ascending=False).index[0]\n",
    "bestmodel=allresults[allresults['index']==bestmodel]['best_estimator'].tolist()[0]"
   ]
  },
  {
   "cell_type": "code",
   "execution_count": 41,
   "metadata": {
    "collapsed": false
   },
   "outputs": [
    {
     "data": {
      "text/plain": [
       "GradientBoostingClassifier(criterion='friedman_mse', init=None,\n",
       "              learning_rate=0.10000000000000001, loss='deviance',\n",
       "              max_depth=4, max_features=None, max_leaf_nodes=None,\n",
       "              min_impurity_split=1e-07, min_samples_leaf=2,\n",
       "              min_samples_split=2, min_weight_fraction_leaf=0.0,\n",
       "              n_estimators=40, presort='auto', random_state=None,\n",
       "              subsample=1.0, verbose=0, warm_start=False)"
      ]
     },
     "execution_count": 41,
     "metadata": {},
     "output_type": "execute_result"
    }
   ],
   "source": [
    "bestmodel"
   ]
  }
 ],
 "metadata": {
  "anaconda-cloud": {},
  "kernelspec": {
   "display_name": "Python [default]",
   "language": "python",
   "name": "python3"
  },
  "language_info": {
   "codemirror_mode": {
    "name": "ipython",
    "version": 3
   },
   "file_extension": ".py",
   "mimetype": "text/x-python",
   "name": "python",
   "nbconvert_exporter": "python",
   "pygments_lexer": "ipython3",
   "version": "3.5.2"
  }
 },
 "nbformat": 4,
 "nbformat_minor": 1
}
