{
 "cells": [
  {
   "cell_type": "markdown",
   "metadata": {},
   "source": [
    "### 3. Classifiers\n",
    "\n",
    "This notebook to classify the probability of fake news traveling from A to B."
   ]
  },
  {
   "cell_type": "code",
   "execution_count": 2,
   "metadata": {
    "collapsed": false
   },
   "outputs": [
    {
     "name": "stdout",
     "output_type": "stream",
     "text": [
      "ClassificationModelInput.csv  pol_agg_new.csv\r\n",
      "\u001b[31memergent.csv\u001b[m\u001b[m*                 \u001b[31mpolitifact.csv\u001b[m\u001b[m*\r\n",
      "fake_localcentralities.csv    politifact_clean.csv\r\n",
      "key_mutuality_roshan.csv      real_localcentralities.csv\r\n",
      "keys.csv                      \u001b[31msnopes.csv\u001b[m\u001b[m*\r\n"
     ]
    }
   ],
   "source": [
    "ls data"
   ]
  },
  {
   "cell_type": "code",
   "execution_count": 3,
   "metadata": {
    "collapsed": false
   },
   "outputs": [
    {
     "name": "stdout",
     "output_type": "stream",
     "text": [
      "Populating the interactive namespace from numpy and matplotlib\n"
     ]
    }
   ],
   "source": [
    "%pylab inline\n",
    "import pandas as pd, pyprind\n",
    "\n",
    "from sklearn.ensemble import GradientBoostingClassifier, RandomForestClassifier\n",
    "from sklearn.model_selection import GridSearchCV\n",
    "from sklearn.metrics import roc_auc_score,make_scorer"
   ]
  },
  {
   "cell_type": "code",
   "execution_count": 10,
   "metadata": {
    "collapsed": false
   },
   "outputs": [
    {
     "name": "stdout",
     "output_type": "stream",
     "text": [
      "Index(['Source', 'Destination', 'Monday', 'Elections', 'Military', 'Thursday',\n",
      "       'Religion', 'Friday', 'Saturday', 'TRUE', 'History', 'Tuesday',\n",
      "       'Wednesday', 'Sunday', 'page_url', 'Health Care', 'FALSE',\n",
      "       'jaccard_coeff_connection', 'Neighbor_connection',\n",
      "       'jaccard_coeff_common_destination', 'Neighbor_common_destination',\n",
      "       'jaccard_coeff_common_source', 'Neighbor_common_source',\n",
      "       'SourceSite_outdeg_real', 'DestSite_outdeg_real',\n",
      "       'SourceSite_outdeg_fake', 'DestSite_outdeg_fake',\n",
      "       'SourceSite_indeg_fake', 'DestSite_indeg_fake', 'DestSite_indeg_real',\n",
      "       'SourceSite_indeg_real', 'mutuality_ind', 'Label'],\n",
      "      dtype='object')\n"
     ]
    }
   ],
   "source": [
    "d=pd.read_csv('data/ClassificationModelInput.csv')\n",
    "sum(sum(d.isnull())) #No NA\n",
    "print(d.columns)"
   ]
  },
  {
   "cell_type": "code",
   "execution_count": 11,
   "metadata": {
    "collapsed": false
   },
   "outputs": [
    {
     "data": {
      "text/html": [
       "<div>\n",
       "<table border=\"1\" class=\"dataframe\">\n",
       "  <thead>\n",
       "    <tr style=\"text-align: right;\">\n",
       "      <th></th>\n",
       "      <th>Source</th>\n",
       "      <th>Destination</th>\n",
       "      <th>Monday</th>\n",
       "      <th>Elections</th>\n",
       "      <th>Military</th>\n",
       "      <th>Thursday</th>\n",
       "      <th>Religion</th>\n",
       "      <th>Friday</th>\n",
       "      <th>Saturday</th>\n",
       "      <th>TRUE</th>\n",
       "      <th>...</th>\n",
       "      <th>SourceSite_outdeg_real</th>\n",
       "      <th>DestSite_outdeg_real</th>\n",
       "      <th>SourceSite_outdeg_fake</th>\n",
       "      <th>DestSite_outdeg_fake</th>\n",
       "      <th>SourceSite_indeg_fake</th>\n",
       "      <th>DestSite_indeg_fake</th>\n",
       "      <th>DestSite_indeg_real</th>\n",
       "      <th>SourceSite_indeg_real</th>\n",
       "      <th>mutuality_ind</th>\n",
       "      <th>Label</th>\n",
       "    </tr>\n",
       "  </thead>\n",
       "  <tbody>\n",
       "    <tr>\n",
       "      <th>0</th>\n",
       "      <td>www.facebook.com</td>\n",
       "      <td>www.politifact.com</td>\n",
       "      <td>6</td>\n",
       "      <td>0</td>\n",
       "      <td>0</td>\n",
       "      <td>4</td>\n",
       "      <td>0</td>\n",
       "      <td>1</td>\n",
       "      <td>0</td>\n",
       "      <td>0</td>\n",
       "      <td>...</td>\n",
       "      <td>30</td>\n",
       "      <td>0.0</td>\n",
       "      <td>225</td>\n",
       "      <td>35.0</td>\n",
       "      <td>10.0</td>\n",
       "      <td>75</td>\n",
       "      <td>7</td>\n",
       "      <td>1.0</td>\n",
       "      <td>1.0</td>\n",
       "      <td>0</td>\n",
       "    </tr>\n",
       "    <tr>\n",
       "      <th>1</th>\n",
       "      <td>nationalreport.net</td>\n",
       "      <td>www.whitehouse.gov</td>\n",
       "      <td>0</td>\n",
       "      <td>0</td>\n",
       "      <td>0</td>\n",
       "      <td>14</td>\n",
       "      <td>0</td>\n",
       "      <td>0</td>\n",
       "      <td>0</td>\n",
       "      <td>0</td>\n",
       "      <td>...</td>\n",
       "      <td>0</td>\n",
       "      <td>0.0</td>\n",
       "      <td>25</td>\n",
       "      <td>0.0</td>\n",
       "      <td>4.0</td>\n",
       "      <td>23</td>\n",
       "      <td>5</td>\n",
       "      <td>0.0</td>\n",
       "      <td>0.0</td>\n",
       "      <td>0</td>\n",
       "    </tr>\n",
       "    <tr>\n",
       "      <th>2</th>\n",
       "      <td>www.naturalnews.com</td>\n",
       "      <td>www.cdc.gov</td>\n",
       "      <td>0</td>\n",
       "      <td>0</td>\n",
       "      <td>0</td>\n",
       "      <td>0</td>\n",
       "      <td>0</td>\n",
       "      <td>0</td>\n",
       "      <td>0</td>\n",
       "      <td>0</td>\n",
       "      <td>...</td>\n",
       "      <td>0</td>\n",
       "      <td>0.0</td>\n",
       "      <td>17</td>\n",
       "      <td>0.0</td>\n",
       "      <td>0.0</td>\n",
       "      <td>18</td>\n",
       "      <td>0</td>\n",
       "      <td>0.0</td>\n",
       "      <td>0.0</td>\n",
       "      <td>0</td>\n",
       "    </tr>\n",
       "    <tr>\n",
       "      <th>3</th>\n",
       "      <td>www.facebook.com</td>\n",
       "      <td>www.snopes.com</td>\n",
       "      <td>0</td>\n",
       "      <td>0</td>\n",
       "      <td>0</td>\n",
       "      <td>0</td>\n",
       "      <td>0</td>\n",
       "      <td>2</td>\n",
       "      <td>0</td>\n",
       "      <td>1</td>\n",
       "      <td>...</td>\n",
       "      <td>30</td>\n",
       "      <td>0.0</td>\n",
       "      <td>225</td>\n",
       "      <td>6.0</td>\n",
       "      <td>10.0</td>\n",
       "      <td>33</td>\n",
       "      <td>1</td>\n",
       "      <td>1.0</td>\n",
       "      <td>0.0</td>\n",
       "      <td>0</td>\n",
       "    </tr>\n",
       "    <tr>\n",
       "      <th>4</th>\n",
       "      <td>www.infowars.com</td>\n",
       "      <td>www.cdc.gov</td>\n",
       "      <td>0</td>\n",
       "      <td>0</td>\n",
       "      <td>0</td>\n",
       "      <td>0</td>\n",
       "      <td>0</td>\n",
       "      <td>0</td>\n",
       "      <td>0</td>\n",
       "      <td>0</td>\n",
       "      <td>...</td>\n",
       "      <td>0</td>\n",
       "      <td>0.0</td>\n",
       "      <td>21</td>\n",
       "      <td>0.0</td>\n",
       "      <td>3.0</td>\n",
       "      <td>18</td>\n",
       "      <td>0</td>\n",
       "      <td>0.0</td>\n",
       "      <td>0.0</td>\n",
       "      <td>0</td>\n",
       "    </tr>\n",
       "  </tbody>\n",
       "</table>\n",
       "<p>5 rows × 33 columns</p>\n",
       "</div>"
      ],
      "text/plain": [
       "                Source         Destination  Monday  Elections  Military  \\\n",
       "0     www.facebook.com  www.politifact.com       6          0         0   \n",
       "1   nationalreport.net  www.whitehouse.gov       0          0         0   \n",
       "2  www.naturalnews.com         www.cdc.gov       0          0         0   \n",
       "3     www.facebook.com      www.snopes.com       0          0         0   \n",
       "4     www.infowars.com         www.cdc.gov       0          0         0   \n",
       "\n",
       "   Thursday  Religion  Friday  Saturday  TRUE  ...    SourceSite_outdeg_real  \\\n",
       "0         4         0       1         0     0  ...                        30   \n",
       "1        14         0       0         0     0  ...                         0   \n",
       "2         0         0       0         0     0  ...                         0   \n",
       "3         0         0       2         0     1  ...                        30   \n",
       "4         0         0       0         0     0  ...                         0   \n",
       "\n",
       "   DestSite_outdeg_real  SourceSite_outdeg_fake  DestSite_outdeg_fake  \\\n",
       "0                   0.0                     225                  35.0   \n",
       "1                   0.0                      25                   0.0   \n",
       "2                   0.0                      17                   0.0   \n",
       "3                   0.0                     225                   6.0   \n",
       "4                   0.0                      21                   0.0   \n",
       "\n",
       "   SourceSite_indeg_fake  DestSite_indeg_fake  DestSite_indeg_real  \\\n",
       "0                   10.0                   75                    7   \n",
       "1                    4.0                   23                    5   \n",
       "2                    0.0                   18                    0   \n",
       "3                   10.0                   33                    1   \n",
       "4                    3.0                   18                    0   \n",
       "\n",
       "   SourceSite_indeg_real  mutuality_ind  Label  \n",
       "0                    1.0            1.0      0  \n",
       "1                    0.0            0.0      0  \n",
       "2                    0.0            0.0      0  \n",
       "3                    1.0            0.0      0  \n",
       "4                    0.0            0.0      0  \n",
       "\n",
       "[5 rows x 33 columns]"
      ]
     },
     "execution_count": 11,
     "metadata": {},
     "output_type": "execute_result"
    }
   ],
   "source": [
    "d.head()"
   ]
  },
  {
   "cell_type": "code",
   "execution_count": 26,
   "metadata": {
    "collapsed": true
   },
   "outputs": [],
   "source": [
    "features=['Monday', 'Elections', 'Military', 'Thursday',\n",
    "       'Religion', 'Friday', 'Saturday','History', 'Tuesday',\n",
    "       'Wednesday', 'Sunday', 'page_url', 'Health Care',\n",
    "       'jaccard_coeff_connection', 'Neighbor_connection',\n",
    "       'jaccard_coeff_common_destination', 'Neighbor_common_destination',\n",
    "       'jaccard_coeff_common_source', 'Neighbor_common_source',\n",
    "       'SourceSite_outdeg_fake', 'DestSite_outdeg_fake',\n",
    "       'SourceSite_indeg_fake', 'DestSite_indeg_fake', 'mutuality_ind']"
   ]
  },
  {
   "cell_type": "code",
   "execution_count": 27,
   "metadata": {
    "collapsed": false
   },
   "outputs": [
    {
     "data": {
      "text/plain": [
       "0    1.797147\n",
       "1   -0.523984\n",
       "2   -0.523984\n",
       "3   -0.523984\n",
       "4   -0.523984\n",
       "Name: Monday, dtype: float64"
      ]
     },
     "execution_count": 27,
     "metadata": {},
     "output_type": "execute_result"
    }
   ],
   "source": [
    "for col in ['Monday', 'Tuesday', 'Wednesday', \n",
    "                            'Thursday','Friday', 'Saturday', 'Sunday']:\n",
    "    mean = d[col].mean()\n",
    "    std = d[col].std()\n",
    "    if std != 0:\n",
    "        d[col] = d[col].apply(lambda row: (row - mean)/std).apply(lambda row: math.log(row+1))\n",
    "    else:\n",
    "        d[col] = 0\n",
    "d['Label']=d['FALSE'].apply(lambda x: int(x>0))\n",
    "#d['Label'] = d['FAKE']/(d['TRUE'] + d['FAKE'])\n",
    "#Check for class imblanace\n",
    "#print(float(sum(d['Label']==0))/len(d))\n",
    "\n",
    "#Ready for model\n",
    "X=d[features]\n",
    "Y=d['Label']\n",
    "d['Monday'].head()"
   ]
  },
  {
   "cell_type": "code",
   "execution_count": 28,
   "metadata": {
    "collapsed": false
   },
   "outputs": [],
   "source": [
    "#Random Forest, GBM\n",
    "\n",
    "#Make AUC the performance metric\n",
    "models = {'RF':{'model':RandomForestClassifier(),\n",
    "                     'Params':{'n_estimators':range(50,70,10),\n",
    "                              'max_depth':range(2,5),}},\n",
    "                \n",
    "         'GBM':{'model':GradientBoostingClassifier(),\n",
    "                     'Params':{'n_estimators':range(50,100,10),\n",
    "                               'max_depth':range(2,5),\n",
    "                               'learning_rate':linspace(0.1,0.5,num=20)}}}"
   ]
  },
  {
   "cell_type": "code",
   "execution_count": 29,
   "metadata": {
    "collapsed": false
   },
   "outputs": [
    {
     "name": "stdout",
     "output_type": "stream",
     "text": [
      "Number of features: 24\n",
      "Number of records 1286\n"
     ]
    }
   ],
   "source": [
    "print('Number of features:', len(X.columns))\n",
    "print('Number of records', len(d))"
   ]
  },
  {
   "cell_type": "code",
   "execution_count": 31,
   "metadata": {
    "collapsed": false
   },
   "outputs": [],
   "source": [
    "def modeleva(cvfolds):\n",
    "    allmodels={}\n",
    "    for model in models.keys():\n",
    "        grid = GridSearchCV(estimator=models[model]['model'], \n",
    "                            param_grid=models[model]['Params'],\n",
    "                            cv=cvfolds, n_jobs=-1,scoring='roc_auc')\n",
    "        modelstats={}\n",
    "        modelstats['model']=grid.fit(X, Y)\n",
    "        modelstats['best_estimator']=modelstats['model'].best_estimator_\n",
    "        modelstats['best_score']=modelstats['model'].best_score_\n",
    "        allmodels[model]=modelstats\n",
    "        del modelstats\n",
    "        print(model)\n",
    "    results=pd.DataFrame.from_dict(allmodels).T.sort_values(by='best_score')\n",
    "    results=results.reset_index()\n",
    "    return(results)"
   ]
  },
  {
   "cell_type": "code",
   "execution_count": 32,
   "metadata": {
    "collapsed": false
   },
   "outputs": [
    {
     "name": "stdout",
     "output_type": "stream",
     "text": [
      "RF\n",
      "GBM\n"
     ]
    },
    {
     "data": {
      "text/html": [
       "<div>\n",
       "<table border=\"1\" class=\"dataframe\">\n",
       "  <thead>\n",
       "    <tr style=\"text-align: right;\">\n",
       "      <th></th>\n",
       "      <th>index</th>\n",
       "      <th>best_estimator</th>\n",
       "      <th>best_score</th>\n",
       "      <th>model</th>\n",
       "    </tr>\n",
       "  </thead>\n",
       "  <tbody>\n",
       "    <tr>\n",
       "      <th>0</th>\n",
       "      <td>RF</td>\n",
       "      <td>(DecisionTreeClassifier(class_weight=None, cri...</td>\n",
       "      <td>0.902952</td>\n",
       "      <td>GridSearchCV(cv=3, error_score='raise',\\n     ...</td>\n",
       "    </tr>\n",
       "    <tr>\n",
       "      <th>1</th>\n",
       "      <td>GBM</td>\n",
       "      <td>([DecisionTreeRegressor(criterion='friedman_ms...</td>\n",
       "      <td>0.914975</td>\n",
       "      <td>GridSearchCV(cv=3, error_score='raise',\\n     ...</td>\n",
       "    </tr>\n",
       "  </tbody>\n",
       "</table>\n",
       "</div>"
      ],
      "text/plain": [
       "  index                                     best_estimator best_score  \\\n",
       "0    RF  (DecisionTreeClassifier(class_weight=None, cri...   0.902952   \n",
       "1   GBM  ([DecisionTreeRegressor(criterion='friedman_ms...   0.914975   \n",
       "\n",
       "                                               model  \n",
       "0  GridSearchCV(cv=3, error_score='raise',\\n     ...  \n",
       "1  GridSearchCV(cv=3, error_score='raise',\\n     ...  "
      ]
     },
     "execution_count": 32,
     "metadata": {},
     "output_type": "execute_result"
    }
   ],
   "source": [
    "allresults=modeleva(3)\n",
    "allresults"
   ]
  },
  {
   "cell_type": "code",
   "execution_count": 13,
   "metadata": {
    "collapsed": false
   },
   "outputs": [
    {
     "data": {
      "text/plain": [
       "RandomForestClassifier(bootstrap=True, class_weight=None, criterion='gini',\n",
       "            max_depth=3, max_features='auto', max_leaf_nodes=None,\n",
       "            min_impurity_split=1e-07, min_samples_leaf=1,\n",
       "            min_samples_split=2, min_weight_fraction_leaf=0.0,\n",
       "            n_estimators=60, n_jobs=1, oob_score=False, random_state=None,\n",
       "            verbose=0, warm_start=False)"
      ]
     },
     "execution_count": 13,
     "metadata": {},
     "output_type": "execute_result"
    }
   ],
   "source": [
    "allresults['best_estimator'][0]"
   ]
  },
  {
   "cell_type": "code",
   "execution_count": 41,
   "metadata": {
    "collapsed": false
   },
   "outputs": [
    {
     "data": {
      "text/plain": [
       "GradientBoostingClassifier(criterion='friedman_mse', init=None,\n",
       "              learning_rate=0.10000000000000001, loss='deviance',\n",
       "              max_depth=4, max_features=None, max_leaf_nodes=None,\n",
       "              min_impurity_split=1e-07, min_samples_leaf=2,\n",
       "              min_samples_split=2, min_weight_fraction_leaf=0.0,\n",
       "              n_estimators=40, presort='auto', random_state=None,\n",
       "              subsample=1.0, verbose=0, warm_start=False)"
      ]
     },
     "execution_count": 41,
     "metadata": {},
     "output_type": "execute_result"
    }
   ],
   "source": [
    "bestmodel"
   ]
  }
 ],
 "metadata": {
  "anaconda-cloud": {},
  "kernelspec": {
   "display_name": "Python [conda root]",
   "language": "python",
   "name": "conda-root-py"
  },
  "language_info": {
   "codemirror_mode": {
    "name": "ipython",
    "version": 3
   },
   "file_extension": ".py",
   "mimetype": "text/x-python",
   "name": "python",
   "nbconvert_exporter": "python",
   "pygments_lexer": "ipython3",
   "version": "3.5.2"
  }
 },
 "nbformat": 4,
 "nbformat_minor": 1
}
