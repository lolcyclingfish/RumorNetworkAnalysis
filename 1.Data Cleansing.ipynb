{
 "cells": [
  {
   "cell_type": "markdown",
   "metadata": {},
   "source": [
    "## Rumor Social Network"
   ]
  },
  {
   "cell_type": "code",
   "execution_count": 168,
   "metadata": {
    "collapsed": false
   },
   "outputs": [
    {
     "name": "stdout",
     "output_type": "stream",
     "text": [
      "Populating the interactive namespace from numpy and matplotlib\n"
     ]
    },
    {
     "name": "stderr",
     "output_type": "stream",
     "text": [
      "/Users/laurengyu/anaconda/lib/python3.5/site-packages/IPython/core/magics/pylab.py:161: UserWarning: pylab import has clobbered these variables: ['f']\n",
      "`%matplotlib` prevents importing * from pylab and numpy\n",
      "  \"\\n`%matplotlib` prevents importing * from pylab and numpy\"\n"
     ]
    }
   ],
   "source": [
    "%pylab inline\n",
    "import pandas as pd"
   ]
  },
  {
   "cell_type": "code",
   "execution_count": 169,
   "metadata": {
    "collapsed": false
   },
   "outputs": [
    {
     "name": "stdout",
     "output_type": "stream",
     "text": [
      "\u001b[31memergent.csv\u001b[m\u001b[m*         politifact_clean.csv\r\n",
      "\u001b[31mpolitifact.csv\u001b[m\u001b[m*       \u001b[31msnopes.csv\u001b[m\u001b[m*\r\n"
     ]
    }
   ],
   "source": [
    "ls data"
   ]
  },
  {
   "cell_type": "code",
   "execution_count": 170,
   "metadata": {
    "collapsed": false
   },
   "outputs": [],
   "source": [
    "pol=pd.read_csv('data/politifact_clean.csv')\n",
    "pol=pol[(~pd.isnull(pol['page_url'])) & (pol['page_url']!='about:blank')] #Get only online rows"
   ]
  },
  {
   "cell_type": "code",
   "execution_count": 171,
   "metadata": {
    "collapsed": false
   },
   "outputs": [
    {
     "data": {
      "text/plain": [
       "array(['pants-fire', 'FALSE', 'barely-true', 'mostly-true', 'TRUE',\n",
       "       'half-true'], dtype=object)"
      ]
     },
     "execution_count": 171,
     "metadata": {},
     "output_type": "execute_result"
    }
   ],
   "source": [
    "pol['claim_label'].unique()"
   ]
  },
  {
   "cell_type": "code",
   "execution_count": 172,
   "metadata": {
    "collapsed": true
   },
   "outputs": [],
   "source": [
    "#T: most true, true\n",
    "pol['TRUE']=pol['claim_label'].apply(lambda x: int((x=='true') | (x=='mostly-true')))\n",
    "#pol['SiteName']=pol['page_citation'].apply(lambda x:str(x).split(\",\")[0])"
   ]
  },
  {
   "cell_type": "code",
   "execution_count": 173,
   "metadata": {
    "collapsed": false
   },
   "outputs": [],
   "source": [
    "unique_claims=pol[pol['page_is_first_citation']==True][['claim','website']]\n",
    "unique_claims_dict = dict(zip(unique_claims.claim, unique_claims.website))\n",
    "pol['Source']=pol['claim'].map(unique_claims_dict)"
   ]
  },
  {
   "cell_type": "code",
   "execution_count": 174,
   "metadata": {
    "collapsed": false
   },
   "outputs": [
    {
     "data": {
      "text/plain": [
       "1947"
      ]
     },
     "execution_count": 174,
     "metadata": {},
     "output_type": "execute_result"
    }
   ],
   "source": [
    "f={'TRUE':'sum', 'page_url':'count'}\n",
    "pol_agg=pol.groupby(['Source','website'])['page_url','TRUE'].agg(f).reset_index().sort_values(by='page_url', ascending=False)\n",
    "pol_agg['FALSE']=pol_agg['page_url']-pol_agg['TRUE']\n",
    "pol=pol[pol['Source']!=pol['website']]\n",
    "pol_agg.head()\n",
    "len(pol)"
   ]
  },
  {
   "cell_type": "code",
   "execution_count": 177,
   "metadata": {
    "collapsed": false,
    "scrolled": true
   },
   "outputs": [],
   "source": [
    "pol_agg.to_csv('data/pol_agg.csv',index=False)"
   ]
  }
 ],
 "metadata": {
  "anaconda-cloud": {},
  "kernelspec": {
   "display_name": "Python [default]",
   "language": "python",
   "name": "python3"
  },
  "language_info": {
   "codemirror_mode": {
    "name": "ipython",
    "version": 3
   },
   "file_extension": ".py",
   "mimetype": "text/x-python",
   "name": "python",
   "nbconvert_exporter": "python",
   "pygments_lexer": "ipython3",
   "version": "3.5.2"
  }
 },
 "nbformat": 4,
 "nbformat_minor": 1
}
