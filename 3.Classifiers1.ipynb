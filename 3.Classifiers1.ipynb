{
 "cells": [
  {
   "cell_type": "markdown",
   "metadata": {},
   "source": [
    "### 3. Classifiers\n",
    "\n",
    "This notebook to classify the probability of fake news traveling from A to B."
   ]
  },
  {
   "cell_type": "code",
   "execution_count": 8,
   "metadata": {
    "collapsed": false
   },
   "outputs": [
    {
     "name": "stdout",
     "output_type": "stream",
     "text": [
      "Populating the interactive namespace from numpy and matplotlib\n"
     ]
    }
   ],
   "source": [
    "%pylab inline\n",
    "import pandas as pd, pyprind\n",
    "\n",
    "from sklearn.ensemble import GradientBoostingClassifier, RandomForestClassifier\n",
    "from sklearn.model_selection import GridSearchCV\n",
    "from sklearn.metrics import roc_auc_score,make_scorer"
   ]
  },
  {
   "cell_type": "code",
   "execution_count": 9,
   "metadata": {
    "collapsed": false
   },
   "outputs": [
    {
     "name": "stdout",
     "output_type": "stream",
     "text": [
      "\u001b[31mClassificationModelInput.csv\u001b[m\u001b[m*  \u001b[31mpol_agg.csv\u001b[m\u001b[m*\r\n",
      "ClassificationModelInput1.csv  \u001b[31mpolitifact.csv\u001b[m\u001b[m*\r\n",
      "\u001b[31memergent.csv\u001b[m\u001b[m*                  \u001b[31mpolitifact_clean.csv\u001b[m\u001b[m*\r\n",
      "\u001b[31mfake_localcentralities.csv\u001b[m\u001b[m*    \u001b[31mreal_localcentralities.csv\u001b[m\u001b[m*\r\n",
      "\u001b[31mkey_mutuality_roshan.csv\u001b[m\u001b[m*      \u001b[31msnopes.csv\u001b[m\u001b[m*\r\n",
      "\u001b[31mkeys.csv\u001b[m\u001b[m*\r\n"
     ]
    }
   ],
   "source": [
    "ls data"
   ]
  },
  {
   "cell_type": "code",
   "execution_count": 10,
   "metadata": {
    "collapsed": false
   },
   "outputs": [
    {
     "name": "stdout",
     "output_type": "stream",
     "text": [
      "Index([u'Source', u'Destination', u'Monday', u'Health Care', u'Tuesday',\n",
      "       u'Friday', u'Wednesday', u'Thursday', u'Elections', u'Religion',\n",
      "       u'Sunday', u'Military', u'Saturday', u'History', u'Total Volume',\n",
      "       u'TRUE', u'FAKE', u'Source_Real_LocalDegreeCentralities',\n",
      "       u'Destination_Real_LocalDegreeCentralities',\n",
      "       u'Source_Real_LocalBetweenness', u'Destination_Real_LocalBetweenness',\n",
      "       u'Source_Real_LocalCloseness', u'Destination_Real_LocalCloseness',\n",
      "       u'Source_Real_LocalEigenCentralities',\n",
      "       u'Destination_Real_LocalEigenCentralities',\n",
      "       u'Source_Fake_LocalDegreeCentralities',\n",
      "       u'Destination_Fake_LocalDegreeCentralities',\n",
      "       u'Source_Fake_LocalBetweenness', u'Destination_Fake_LocalBetweenness',\n",
      "       u'Source_Fake_LocalCloseness', u'Destination_Fake_LocalCloseness',\n",
      "       u'Source_Fake_LocalEigenCentralities',\n",
      "       u'Destination_Fake_LocalEigenCentralities', u'jaccard_coeff_connection',\n",
      "       u'Neighbor_connection', u'jaccard_coeff_common_destination',\n",
      "       u'Neighbor_common_destination', u'jaccard_coeff_common_source',\n",
      "       u'Neighbor_common_source', u'mutuality_ind', u'Label'],\n",
      "      dtype='object')\n"
     ]
    }
   ],
   "source": [
    "d=pd.read_csv('data/ClassificationModelInput1.csv')\n",
    "sum(sum(d.isnull())) #No NA\n",
    "print d.columns"
   ]
  },
  {
   "cell_type": "code",
   "execution_count": 4,
   "metadata": {
    "collapsed": false
   },
   "outputs": [
    {
     "data": {
      "text/html": [
       "<div>\n",
       "<table border=\"1\" class=\"dataframe\">\n",
       "  <thead>\n",
       "    <tr style=\"text-align: right;\">\n",
       "      <th></th>\n",
       "      <th>Source</th>\n",
       "      <th>Destination</th>\n",
       "      <th>Monday</th>\n",
       "      <th>Health Care</th>\n",
       "      <th>Tuesday</th>\n",
       "      <th>Friday</th>\n",
       "      <th>Wednesday</th>\n",
       "      <th>Thursday</th>\n",
       "      <th>Elections</th>\n",
       "      <th>Religion</th>\n",
       "      <th>...</th>\n",
       "      <th>Source_Fake_LocalEigenCentralities</th>\n",
       "      <th>Destination_Fake_LocalEigenCentralities</th>\n",
       "      <th>jaccard_coeff_connection</th>\n",
       "      <th>Neighbor_connection</th>\n",
       "      <th>jaccard_coeff_common_destination</th>\n",
       "      <th>Neighbor_common_destination</th>\n",
       "      <th>jaccard_coeff_common_source</th>\n",
       "      <th>Neighbor_common_source</th>\n",
       "      <th>mutuality_ind</th>\n",
       "      <th>Label</th>\n",
       "    </tr>\n",
       "  </thead>\n",
       "  <tbody>\n",
       "    <tr>\n",
       "      <th>0</th>\n",
       "      <td>www.facebook.com</td>\n",
       "      <td>www.politifact.com</td>\n",
       "      <td>6.0</td>\n",
       "      <td>0.0</td>\n",
       "      <td>3.0</td>\n",
       "      <td>1.0</td>\n",
       "      <td>8.0</td>\n",
       "      <td>4.0</td>\n",
       "      <td>0.0</td>\n",
       "      <td>0.0</td>\n",
       "      <td>...</td>\n",
       "      <td>1.0</td>\n",
       "      <td>1.0</td>\n",
       "      <td>0.053659</td>\n",
       "      <td>11</td>\n",
       "      <td>0.017442</td>\n",
       "      <td>3</td>\n",
       "      <td>0.073171</td>\n",
       "      <td>3</td>\n",
       "      <td>1.0</td>\n",
       "      <td>1</td>\n",
       "    </tr>\n",
       "    <tr>\n",
       "      <th>1</th>\n",
       "      <td>nationalreport.net</td>\n",
       "      <td>www.whitehouse.gov</td>\n",
       "      <td>0.0</td>\n",
       "      <td>0.0</td>\n",
       "      <td>0.0</td>\n",
       "      <td>0.0</td>\n",
       "      <td>0.0</td>\n",
       "      <td>14.0</td>\n",
       "      <td>0.0</td>\n",
       "      <td>0.0</td>\n",
       "      <td>...</td>\n",
       "      <td>1.0</td>\n",
       "      <td>1.0</td>\n",
       "      <td>0.040000</td>\n",
       "      <td>1</td>\n",
       "      <td>0.000000</td>\n",
       "      <td>0</td>\n",
       "      <td>0.000000</td>\n",
       "      <td>0</td>\n",
       "      <td>0.0</td>\n",
       "      <td>1</td>\n",
       "    </tr>\n",
       "    <tr>\n",
       "      <th>2</th>\n",
       "      <td>www.naturalnews.com</td>\n",
       "      <td>www.cdc.gov</td>\n",
       "      <td>0.0</td>\n",
       "      <td>0.0</td>\n",
       "      <td>8.0</td>\n",
       "      <td>0.0</td>\n",
       "      <td>0.0</td>\n",
       "      <td>0.0</td>\n",
       "      <td>0.0</td>\n",
       "      <td>0.0</td>\n",
       "      <td>...</td>\n",
       "      <td>1.0</td>\n",
       "      <td>1.0</td>\n",
       "      <td>0.000000</td>\n",
       "      <td>0</td>\n",
       "      <td>0.000000</td>\n",
       "      <td>0</td>\n",
       "      <td>0.000000</td>\n",
       "      <td>0</td>\n",
       "      <td>0.0</td>\n",
       "      <td>1</td>\n",
       "    </tr>\n",
       "    <tr>\n",
       "      <th>3</th>\n",
       "      <td>www.facebook.com</td>\n",
       "      <td>www.snopes.com</td>\n",
       "      <td>0.0</td>\n",
       "      <td>0.0</td>\n",
       "      <td>2.0</td>\n",
       "      <td>2.0</td>\n",
       "      <td>3.0</td>\n",
       "      <td>0.0</td>\n",
       "      <td>0.0</td>\n",
       "      <td>0.0</td>\n",
       "      <td>...</td>\n",
       "      <td>1.0</td>\n",
       "      <td>1.0</td>\n",
       "      <td>0.028902</td>\n",
       "      <td>5</td>\n",
       "      <td>0.006711</td>\n",
       "      <td>1</td>\n",
       "      <td>0.115385</td>\n",
       "      <td>3</td>\n",
       "      <td>0.0</td>\n",
       "      <td>1</td>\n",
       "    </tr>\n",
       "    <tr>\n",
       "      <th>4</th>\n",
       "      <td>www.infowars.com</td>\n",
       "      <td>www.cdc.gov</td>\n",
       "      <td>0.0</td>\n",
       "      <td>0.0</td>\n",
       "      <td>0.0</td>\n",
       "      <td>0.0</td>\n",
       "      <td>6.0</td>\n",
       "      <td>0.0</td>\n",
       "      <td>0.0</td>\n",
       "      <td>0.0</td>\n",
       "      <td>...</td>\n",
       "      <td>1.0</td>\n",
       "      <td>1.0</td>\n",
       "      <td>0.000000</td>\n",
       "      <td>0</td>\n",
       "      <td>0.000000</td>\n",
       "      <td>0</td>\n",
       "      <td>0.000000</td>\n",
       "      <td>0</td>\n",
       "      <td>0.0</td>\n",
       "      <td>1</td>\n",
       "    </tr>\n",
       "  </tbody>\n",
       "</table>\n",
       "<p>5 rows × 41 columns</p>\n",
       "</div>"
      ],
      "text/plain": [
       "                Source         Destination  Monday  Health Care  Tuesday  \\\n",
       "0     www.facebook.com  www.politifact.com     6.0          0.0      3.0   \n",
       "1   nationalreport.net  www.whitehouse.gov     0.0          0.0      0.0   \n",
       "2  www.naturalnews.com         www.cdc.gov     0.0          0.0      8.0   \n",
       "3     www.facebook.com      www.snopes.com     0.0          0.0      2.0   \n",
       "4     www.infowars.com         www.cdc.gov     0.0          0.0      0.0   \n",
       "\n",
       "   Friday  Wednesday  Thursday  Elections  Religion  ...    \\\n",
       "0     1.0        8.0       4.0        0.0       0.0  ...     \n",
       "1     0.0        0.0      14.0        0.0       0.0  ...     \n",
       "2     0.0        0.0       0.0        0.0       0.0  ...     \n",
       "3     2.0        3.0       0.0        0.0       0.0  ...     \n",
       "4     0.0        6.0       0.0        0.0       0.0  ...     \n",
       "\n",
       "   Source_Fake_LocalEigenCentralities  \\\n",
       "0                                 1.0   \n",
       "1                                 1.0   \n",
       "2                                 1.0   \n",
       "3                                 1.0   \n",
       "4                                 1.0   \n",
       "\n",
       "   Destination_Fake_LocalEigenCentralities  jaccard_coeff_connection  \\\n",
       "0                                      1.0                  0.053659   \n",
       "1                                      1.0                  0.040000   \n",
       "2                                      1.0                  0.000000   \n",
       "3                                      1.0                  0.028902   \n",
       "4                                      1.0                  0.000000   \n",
       "\n",
       "   Neighbor_connection  jaccard_coeff_common_destination  \\\n",
       "0                   11                          0.017442   \n",
       "1                    1                          0.000000   \n",
       "2                    0                          0.000000   \n",
       "3                    5                          0.006711   \n",
       "4                    0                          0.000000   \n",
       "\n",
       "   Neighbor_common_destination  jaccard_coeff_common_source  \\\n",
       "0                            3                     0.073171   \n",
       "1                            0                     0.000000   \n",
       "2                            0                     0.000000   \n",
       "3                            1                     0.115385   \n",
       "4                            0                     0.000000   \n",
       "\n",
       "   Neighbor_common_source  mutuality_ind  Label  \n",
       "0                       3            1.0      1  \n",
       "1                       0            0.0      1  \n",
       "2                       0            0.0      1  \n",
       "3                       3            0.0      1  \n",
       "4                       0            0.0      1  \n",
       "\n",
       "[5 rows x 41 columns]"
      ]
     },
     "execution_count": 4,
     "metadata": {},
     "output_type": "execute_result"
    }
   ],
   "source": [
    "d.head()"
   ]
  },
  {
   "cell_type": "code",
   "execution_count": 30,
   "metadata": {
    "collapsed": false
   },
   "outputs": [
    {
     "data": {
      "text/plain": [
       "0    2.897463\n",
       "1   -0.274892\n",
       "2   -0.274892\n",
       "3   -0.274892\n",
       "4   -0.274892\n",
       "Name: Monday, dtype: float64"
      ]
     },
     "execution_count": 30,
     "metadata": {},
     "output_type": "execute_result"
    }
   ],
   "source": [
    "for col in ['Monday', 'Tuesday', 'Wednesday', \n",
    "                            'Thursday','Friday', 'Saturday', 'Sunday']:\n",
    "    mean = d[col].mean()\n",
    "    std = d[col].std()\n",
    "    if std != 0:\n",
    "        d[col] = d[col].apply(lambda row: (row - mean)/std).apply(lambda row: math.log(row+1))\n",
    "    else:\n",
    "        d[col] = 0\n",
    "d['Label']=d['FAKE'].apply(lambda x: int(x>0))\n",
    "#d['Label'] = d['FAKE']/(d['TRUE'] + d['FAKE'])\n",
    "#Check for class imblanace\n",
    "#print(float(sum(d['Label']==0))/len(d))\n",
    "\n",
    "#Ready for model\n",
    "X=d[['Source_Fake_LocalDegreeCentralities',\n",
    "       'Destination_Fake_LocalDegreeCentralities',\n",
    "       'Source_Fake_LocalBetweenness', 'Destination_Fake_LocalBetweenness',\n",
    "       'Source_Fake_LocalCloseness', 'Destination_Fake_LocalCloseness',\n",
    "       'Source_Fake_LocalEigenCentralities',\n",
    "       'Destination_Fake_LocalEigenCentralities', 'jaccard_coeff_connection',\n",
    "       'Neighbor_connection', 'jaccard_coeff_common_destination',\n",
    "       'Neighbor_common_destination', 'jaccard_coeff_common_source',\n",
    "       'Neighbor_common_source', 'mutuality_ind','Monday', 'Tuesday', 'Wednesday', \n",
    "                            'Thursday','Friday', 'Saturday', 'Sunday']]\n",
    "                   # 'Elections', 'Health Care', 'Military', 'Religion', 'History']]\n",
    "Y=d['Label']\n",
    "d['Monday'].head()"
   ]
  },
  {
   "cell_type": "code",
   "execution_count": 21,
   "metadata": {
    "collapsed": false
   },
   "outputs": [
    {
     "data": {
      "text/plain": [
       "2734"
      ]
     },
     "execution_count": 21,
     "metadata": {},
     "output_type": "execute_result"
    }
   ],
   "source": [
    "len(d)"
   ]
  },
  {
   "cell_type": "code",
   "execution_count": 22,
   "metadata": {
    "collapsed": false
   },
   "outputs": [],
   "source": [
    "#Random Forest, GBM\n",
    "\n",
    "#Make AUC the performance metric\n",
    "\n",
    "models = {'RF':{'model':RandomForestClassifier(),\n",
    "                     'Params':{'n_estimators':range(50,70,10),\n",
    "                              'max_depth':range(2,5),}},\n",
    "                \n",
    "         'GBM':{'model':GradientBoostingClassifier(),\n",
    "                     'Params':{'n_estimators':range(50,100,10),\n",
    "                               'max_depth':range(2,5),\n",
    "                               'learning_rate':linspace(0.1,0.5,num=20)}}}"
   ]
  },
  {
   "cell_type": "code",
   "execution_count": 23,
   "metadata": {
    "collapsed": false
   },
   "outputs": [
    {
     "name": "stdout",
     "output_type": "stream",
     "text": [
      "('Number of features:', 15)\n",
      "('Number of records', 2734)\n"
     ]
    }
   ],
   "source": [
    "print('Number of features:', len(X.columns))\n",
    "print('Number of records', len(d))"
   ]
  },
  {
   "cell_type": "code",
   "execution_count": 24,
   "metadata": {
    "collapsed": false
   },
   "outputs": [],
   "source": [
    "def modeleva(cvfolds):\n",
    "    allmodels={}\n",
    "    for model in models.keys():\n",
    "        grid = GridSearchCV(estimator=models[model]['model'], \n",
    "                            param_grid=models[model]['Params'],\n",
    "                            cv=cvfolds, n_jobs=-1,scoring='roc_auc')\n",
    "        modelstats={}\n",
    "        modelstats['model']=grid.fit(X, Y)\n",
    "        modelstats['best_estimator']=modelstats['model'].best_estimator_\n",
    "        modelstats['best_score']=modelstats['model'].best_score_\n",
    "        allmodels[model]=modelstats\n",
    "        del modelstats\n",
    "        print(model)\n",
    "    results=pd.DataFrame.from_dict(allmodels).T.sort_values(by='best_score')\n",
    "    results=results.reset_index()\n",
    "    return(results)"
   ]
  },
  {
   "cell_type": "code",
   "execution_count": 31,
   "metadata": {
    "collapsed": false
   },
   "outputs": [
    {
     "name": "stdout",
     "output_type": "stream",
     "text": [
      "RF\n",
      "GBM\n"
     ]
    },
    {
     "data": {
      "text/html": [
       "<div>\n",
       "<table border=\"1\" class=\"dataframe\">\n",
       "  <thead>\n",
       "    <tr style=\"text-align: right;\">\n",
       "      <th></th>\n",
       "      <th>index</th>\n",
       "      <th>best_estimator</th>\n",
       "      <th>best_score</th>\n",
       "      <th>model</th>\n",
       "    </tr>\n",
       "  </thead>\n",
       "  <tbody>\n",
       "    <tr>\n",
       "      <th>0</th>\n",
       "      <td>RF</td>\n",
       "      <td>(DecisionTreeClassifier(class_weight=None, cri...</td>\n",
       "      <td>0.9808</td>\n",
       "      <td>GridSearchCV(cv=10, error_score='raise',\\n    ...</td>\n",
       "    </tr>\n",
       "    <tr>\n",
       "      <th>1</th>\n",
       "      <td>GBM</td>\n",
       "      <td>([DecisionTreeRegressor(criterion='friedman_ms...</td>\n",
       "      <td>0.985638</td>\n",
       "      <td>GridSearchCV(cv=10, error_score='raise',\\n    ...</td>\n",
       "    </tr>\n",
       "  </tbody>\n",
       "</table>\n",
       "</div>"
      ],
      "text/plain": [
       "  index                                     best_estimator best_score  \\\n",
       "0    RF  (DecisionTreeClassifier(class_weight=None, cri...     0.9808   \n",
       "1   GBM  ([DecisionTreeRegressor(criterion='friedman_ms...   0.985638   \n",
       "\n",
       "                                               model  \n",
       "0  GridSearchCV(cv=10, error_score='raise',\\n    ...  \n",
       "1  GridSearchCV(cv=10, error_score='raise',\\n    ...  "
      ]
     },
     "execution_count": 31,
     "metadata": {},
     "output_type": "execute_result"
    }
   ],
   "source": [
    "allresults=modeleva(10)\n",
    "allresults"
   ]
  },
  {
   "cell_type": "code",
   "execution_count": 13,
   "metadata": {
    "collapsed": false
   },
   "outputs": [
    {
     "data": {
      "text/plain": [
       "RandomForestClassifier(bootstrap=True, class_weight=None, criterion='gini',\n",
       "            max_depth=3, max_features='auto', max_leaf_nodes=None,\n",
       "            min_impurity_split=1e-07, min_samples_leaf=1,\n",
       "            min_samples_split=2, min_weight_fraction_leaf=0.0,\n",
       "            n_estimators=60, n_jobs=1, oob_score=False, random_state=None,\n",
       "            verbose=0, warm_start=False)"
      ]
     },
     "execution_count": 13,
     "metadata": {},
     "output_type": "execute_result"
    }
   ],
   "source": [
    "allresults['best_estimator'][0]"
   ]
  },
  {
   "cell_type": "code",
   "execution_count": 41,
   "metadata": {
    "collapsed": false
   },
   "outputs": [
    {
     "data": {
      "text/plain": [
       "GradientBoostingClassifier(criterion='friedman_mse', init=None,\n",
       "              learning_rate=0.10000000000000001, loss='deviance',\n",
       "              max_depth=4, max_features=None, max_leaf_nodes=None,\n",
       "              min_impurity_split=1e-07, min_samples_leaf=2,\n",
       "              min_samples_split=2, min_weight_fraction_leaf=0.0,\n",
       "              n_estimators=40, presort='auto', random_state=None,\n",
       "              subsample=1.0, verbose=0, warm_start=False)"
      ]
     },
     "execution_count": 41,
     "metadata": {},
     "output_type": "execute_result"
    }
   ],
   "source": [
    "bestmodel"
   ]
  }
 ],
 "metadata": {
  "anaconda-cloud": {},
  "kernelspec": {
   "display_name": "Python [conda root]",
   "language": "python",
   "name": "conda-root-py"
  },
  "language_info": {
   "codemirror_mode": {
    "name": "ipython",
    "version": 2
   },
   "file_extension": ".py",
   "mimetype": "text/x-python",
   "name": "python",
   "nbconvert_exporter": "python",
   "pygments_lexer": "ipython2",
   "version": "2.7.12"
  }
 },
 "nbformat": 4,
 "nbformat_minor": 1
}
